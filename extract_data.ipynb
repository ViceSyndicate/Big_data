{
 "cells": [
  {
   "cell_type": "code",
   "execution_count": 32,
   "metadata": {
    "collapsed": true
   },
   "outputs": [],
   "source": [
    "import pandas as pd"
   ]
  },
  {
   "cell_type": "code",
   "execution_count": 36,
   "outputs": [],
   "source": [
    "male_df = pd.read_csv('male.csv')\n",
    "trimmed_male_data = male_df[['stature', 'weightkg', 'waistcircumference']]\n",
    "# stature = mm,\n",
    "# weight xx.x kg,\n",
    "# circumefernce = mm\n",
    "trimmed_male_data.to_csv('male_cleaned_data.csv')"
   ],
   "metadata": {
    "collapsed": false,
    "pycharm": {
     "name": "#%%\n"
    }
   }
  },
  {
   "cell_type": "code",
   "execution_count": 37,
   "outputs": [],
   "source": [
    "simple_male_data = pd.read_csv(\"male_cleaned_data.csv\")"
   ],
   "metadata": {
    "collapsed": false,
    "pycharm": {
     "name": "#%%\n"
    }
   }
  },
  {
   "cell_type": "code",
   "execution_count": 39,
   "outputs": [
    {
     "data": {
      "text/plain": "      Unnamed: 0  subjectid  stature  weightkg  waistcircumference\n4077        4077      29442     1688       675                 816\n4078        4078      29443     1765       896                 978\n4079        4079      29447     1690       832                 991\n4080        4080      29451     1718       731                 783\n4081        4081      29452     1828       985                1080",
      "text/html": "<div>\n<style scoped>\n    .dataframe tbody tr th:only-of-type {\n        vertical-align: middle;\n    }\n\n    .dataframe tbody tr th {\n        vertical-align: top;\n    }\n\n    .dataframe thead th {\n        text-align: right;\n    }\n</style>\n<table border=\"1\" class=\"dataframe\">\n  <thead>\n    <tr style=\"text-align: right;\">\n      <th></th>\n      <th>Unnamed: 0</th>\n      <th>subjectid</th>\n      <th>stature</th>\n      <th>weightkg</th>\n      <th>waistcircumference</th>\n    </tr>\n  </thead>\n  <tbody>\n    <tr>\n      <th>4077</th>\n      <td>4077</td>\n      <td>29442</td>\n      <td>1688</td>\n      <td>675</td>\n      <td>816</td>\n    </tr>\n    <tr>\n      <th>4078</th>\n      <td>4078</td>\n      <td>29443</td>\n      <td>1765</td>\n      <td>896</td>\n      <td>978</td>\n    </tr>\n    <tr>\n      <th>4079</th>\n      <td>4079</td>\n      <td>29447</td>\n      <td>1690</td>\n      <td>832</td>\n      <td>991</td>\n    </tr>\n    <tr>\n      <th>4080</th>\n      <td>4080</td>\n      <td>29451</td>\n      <td>1718</td>\n      <td>731</td>\n      <td>783</td>\n    </tr>\n    <tr>\n      <th>4081</th>\n      <td>4081</td>\n      <td>29452</td>\n      <td>1828</td>\n      <td>985</td>\n      <td>1080</td>\n    </tr>\n  </tbody>\n</table>\n</div>"
     },
     "execution_count": 39,
     "metadata": {},
     "output_type": "execute_result"
    }
   ],
   "source": [
    "#simple_male_data.insert(4, column = \"size\", value=\"-\")\n",
    "simple_male_data.tail()"
   ],
   "metadata": {
    "collapsed": false,
    "pycharm": {
     "name": "#%%\n"
    }
   }
  },
  {
   "cell_type": "code",
   "execution_count": 41,
   "outputs": [],
   "source": [
    "female_df = pd.read_csv('female.csv')\n",
    "#trimmed_female_data = female_df[['stature', 'weightkg', 'waistcircumference']]\n",
    "trimmed_female_data = female_df[['stature', 'weightkg', 'waistcircumference']]\n",
    "trimmed_female_data.to_csv('female_cleaned_data.csv')"
   ],
   "metadata": {
    "collapsed": false,
    "pycharm": {
     "name": "#%%\n"
    }
   }
  },
  {
   "cell_type": "code",
   "execution_count": 42,
   "outputs": [
    {
     "data": {
      "text/plain": "   Unnamed: 0  stature  weightkg  waistcircumference\n0           0     1560       657                 850\n1           1     1665       534                 708\n2           2     1711       663                 727\n3           3     1660       782                 923\n4           4     1572       886                1163",
      "text/html": "<div>\n<style scoped>\n    .dataframe tbody tr th:only-of-type {\n        vertical-align: middle;\n    }\n\n    .dataframe tbody tr th {\n        vertical-align: top;\n    }\n\n    .dataframe thead th {\n        text-align: right;\n    }\n</style>\n<table border=\"1\" class=\"dataframe\">\n  <thead>\n    <tr style=\"text-align: right;\">\n      <th></th>\n      <th>Unnamed: 0</th>\n      <th>stature</th>\n      <th>weightkg</th>\n      <th>waistcircumference</th>\n    </tr>\n  </thead>\n  <tbody>\n    <tr>\n      <th>0</th>\n      <td>0</td>\n      <td>1560</td>\n      <td>657</td>\n      <td>850</td>\n    </tr>\n    <tr>\n      <th>1</th>\n      <td>1</td>\n      <td>1665</td>\n      <td>534</td>\n      <td>708</td>\n    </tr>\n    <tr>\n      <th>2</th>\n      <td>2</td>\n      <td>1711</td>\n      <td>663</td>\n      <td>727</td>\n    </tr>\n    <tr>\n      <th>3</th>\n      <td>3</td>\n      <td>1660</td>\n      <td>782</td>\n      <td>923</td>\n    </tr>\n    <tr>\n      <th>4</th>\n      <td>4</td>\n      <td>1572</td>\n      <td>886</td>\n      <td>1163</td>\n    </tr>\n  </tbody>\n</table>\n</div>"
     },
     "execution_count": 42,
     "metadata": {},
     "output_type": "execute_result"
    }
   ],
   "source": [
    "simple_female_data = pd.read_csv(\"female_cleaned_data.csv\")\n",
    "simple_female_data.head()"
   ],
   "metadata": {
    "collapsed": false,
    "pycharm": {
     "name": "#%%\n"
    }
   }
  },
  {
   "cell_type": "code",
   "execution_count": null,
   "outputs": [],
   "source": [],
   "metadata": {
    "collapsed": false,
    "pycharm": {
     "name": "#%%\n"
    }
   }
  }
 ],
 "metadata": {
  "kernelspec": {
   "display_name": "Python 3",
   "language": "python",
   "name": "python3"
  },
  "language_info": {
   "codemirror_mode": {
    "name": "ipython",
    "version": 2
   },
   "file_extension": ".py",
   "mimetype": "text/x-python",
   "name": "python",
   "nbconvert_exporter": "python",
   "pygments_lexer": "ipython2",
   "version": "2.7.6"
  }
 },
 "nbformat": 4,
 "nbformat_minor": 0
}