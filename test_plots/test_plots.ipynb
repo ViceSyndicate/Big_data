{
 "cells": [
  {
   "cell_type": "markdown",
   "source": [],
   "metadata": {
    "collapsed": false
   }
  },
  {
   "cell_type": "code",
   "execution_count": 1,
   "metadata": {
    "collapsed": true
   },
   "outputs": [],
   "source": [
    "import enum\n",
    "\n",
    "import pandas as pd\n",
    "import matplotlib.pyplot as plt\n",
    "import numpy as np\n",
    "import sklearn.neighbors"
   ]
  },
  {
   "cell_type": "code",
   "execution_count": 1,
   "outputs": [],
   "source": [],
   "metadata": {
    "collapsed": false,
    "pycharm": {
     "name": "#%%\n"
    }
   }
  },
  {
   "cell_type": "code",
   "execution_count": 2,
   "outputs": [],
   "source": [
    "male_df = pd.read_csv('C:\\School\\BigData\\Big_Data\\male.csv')\n",
    "trimmed_male_data = male_df[['stature']]"
   ],
   "metadata": {
    "collapsed": false,
    "pycharm": {
     "name": "#%%\n"
    }
   }
  },
  {
   "cell_type": "code",
   "execution_count": 3,
   "outputs": [
    {
     "data": {
      "text/plain": "      stature  weightkg  chestbreadth  waistbreadth  hipbreadth  \\\n4077     1688       675           266           279         301   \n4078     1765       896           323           351         356   \n4079     1690       832           290           333         334   \n4080     1718       731           284           293         320   \n4081     1828       985           308           354         339   \n\n      waistcircumference  crotchheight  footlength                   Ethnicity  \n4077                 816           807         255  Blackfoot Cherokee Choctaw  \n4078                 978           848         263                         NaN  \n4079                 991           787         263                         NaN  \n4080                 783           846         266                         NaN  \n4081                1080           931         295                         NaN  ",
      "text/html": "<div>\n<style scoped>\n    .dataframe tbody tr th:only-of-type {\n        vertical-align: middle;\n    }\n\n    .dataframe tbody tr th {\n        vertical-align: top;\n    }\n\n    .dataframe thead th {\n        text-align: right;\n    }\n</style>\n<table border=\"1\" class=\"dataframe\">\n  <thead>\n    <tr style=\"text-align: right;\">\n      <th></th>\n      <th>stature</th>\n      <th>weightkg</th>\n      <th>chestbreadth</th>\n      <th>waistbreadth</th>\n      <th>hipbreadth</th>\n      <th>waistcircumference</th>\n      <th>crotchheight</th>\n      <th>footlength</th>\n      <th>Ethnicity</th>\n    </tr>\n  </thead>\n  <tbody>\n    <tr>\n      <th>4077</th>\n      <td>1688</td>\n      <td>675</td>\n      <td>266</td>\n      <td>279</td>\n      <td>301</td>\n      <td>816</td>\n      <td>807</td>\n      <td>255</td>\n      <td>Blackfoot Cherokee Choctaw</td>\n    </tr>\n    <tr>\n      <th>4078</th>\n      <td>1765</td>\n      <td>896</td>\n      <td>323</td>\n      <td>351</td>\n      <td>356</td>\n      <td>978</td>\n      <td>848</td>\n      <td>263</td>\n      <td>NaN</td>\n    </tr>\n    <tr>\n      <th>4079</th>\n      <td>1690</td>\n      <td>832</td>\n      <td>290</td>\n      <td>333</td>\n      <td>334</td>\n      <td>991</td>\n      <td>787</td>\n      <td>263</td>\n      <td>NaN</td>\n    </tr>\n    <tr>\n      <th>4080</th>\n      <td>1718</td>\n      <td>731</td>\n      <td>284</td>\n      <td>293</td>\n      <td>320</td>\n      <td>783</td>\n      <td>846</td>\n      <td>266</td>\n      <td>NaN</td>\n    </tr>\n    <tr>\n      <th>4081</th>\n      <td>1828</td>\n      <td>985</td>\n      <td>308</td>\n      <td>354</td>\n      <td>339</td>\n      <td>1080</td>\n      <td>931</td>\n      <td>295</td>\n      <td>NaN</td>\n    </tr>\n  </tbody>\n</table>\n</div>"
     },
     "execution_count": 3,
     "metadata": {},
     "output_type": "execute_result"
    }
   ],
   "source": [
    "male_df = pd.read_csv('C:/School/BigData/Big_Data/male.csv')\n",
    "male_trimmed_data = male_df[['stature', 'weightkg', 'chestbreadth', 'waistbreadth', 'hipbreadth', 'waistcircumference', 'crotchheight', 'footlength', 'Ethnicity']]\n",
    "\n",
    "female_df = pd.read_csv(\"C:/School/BigData/Big_Data/female.csv\")\n",
    "female_trimmed_data = female_df[['stature', 'weightkg', 'chestbreadth', 'waistbreadth', 'hipbreadth', 'waistcircumference', 'crotchheight', 'footlength', 'Ethnicity']]\n",
    "\n",
    "male_trimmed_data.to_csv('clean_male')\n",
    "female_trimmed_data.to_csv('clean_female')\n",
    "#male_df.head()\n",
    "male_trimmed_data.tail()"
   ],
   "metadata": {
    "collapsed": false,
    "pycharm": {
     "name": "#%%\n"
    }
   }
  },
  {
   "cell_type": "code",
   "execution_count": 4,
   "outputs": [
    {
     "data": {
      "text/plain": "      Cm     Kg\n0  177.6   81.5\n1  170.2   72.6\n2  173.5   92.9\n3  165.5   79.4\n4  191.4   94.6\n5  172.0   80.2\n6  181.0  116.2\n7  185.0   95.4\n8  177.7   99.5\n9  181.1   70.2",
      "text/html": "<div>\n<style scoped>\n    .dataframe tbody tr th:only-of-type {\n        vertical-align: middle;\n    }\n\n    .dataframe tbody tr th {\n        vertical-align: top;\n    }\n\n    .dataframe thead th {\n        text-align: right;\n    }\n</style>\n<table border=\"1\" class=\"dataframe\">\n  <thead>\n    <tr style=\"text-align: right;\">\n      <th></th>\n      <th>Cm</th>\n      <th>Kg</th>\n    </tr>\n  </thead>\n  <tbody>\n    <tr>\n      <th>0</th>\n      <td>177.6</td>\n      <td>81.5</td>\n    </tr>\n    <tr>\n      <th>1</th>\n      <td>170.2</td>\n      <td>72.6</td>\n    </tr>\n    <tr>\n      <th>2</th>\n      <td>173.5</td>\n      <td>92.9</td>\n    </tr>\n    <tr>\n      <th>3</th>\n      <td>165.5</td>\n      <td>79.4</td>\n    </tr>\n    <tr>\n      <th>4</th>\n      <td>191.4</td>\n      <td>94.6</td>\n    </tr>\n    <tr>\n      <th>5</th>\n      <td>172.0</td>\n      <td>80.2</td>\n    </tr>\n    <tr>\n      <th>6</th>\n      <td>181.0</td>\n      <td>116.2</td>\n    </tr>\n    <tr>\n      <th>7</th>\n      <td>185.0</td>\n      <td>95.4</td>\n    </tr>\n    <tr>\n      <th>8</th>\n      <td>177.7</td>\n      <td>99.5</td>\n    </tr>\n    <tr>\n      <th>9</th>\n      <td>181.1</td>\n      <td>70.2</td>\n    </tr>\n  </tbody>\n</table>\n</div>"
     },
     "execution_count": 4,
     "metadata": {},
     "output_type": "execute_result"
    }
   ],
   "source": [
    "#weight_height_male = trimmed_male_data['stature', 'weightkg']\n",
    "weight_height_male_df = pd.read_csv('C:\\School\\BigData\\Big_Data\\male.csv', usecols=['stature', 'weightkg'])\n",
    "weight_height_male_df.rename(columns={'weightkg':'Kg', 'stature':'Cm'}, inplace=True)\n",
    "weight_height_male_df['Kg'] = weight_height_male_df['Kg'].multiply(0.1)\n",
    "weight_height_male_df['Cm'] = weight_height_male_df['Cm'].multiply(0.1)\n",
    "\n",
    "small_df = weight_height_male_df.head(10)\n",
    "small_df.head(15)"
   ],
   "metadata": {
    "collapsed": false,
    "pycharm": {
     "name": "#%%\n"
    }
   }
  },
  {
   "cell_type": "code",
   "execution_count": 47,
   "outputs": [
    {
     "data": {
      "text/plain": "<Figure size 432x288 with 1 Axes>",
      "image/png": "[encoded data removed]"
     },
     "metadata": {
      "needs_background": "light"
     },
     "output_type": "display_data"
    }
   ],
   "source": [
    "#matplotlib.pyplot.subplot\n",
    "#weight_height_male_df.plot(x='Kg', y='Cm', kind='scatter')\n",
    "small_df = weight_height_male_df.head(3000)\n",
    "#small_df.head(15)\n",
    "#small_df.plot(x='Kg', y='Cm',)\n",
    "\n",
    "height = []\n",
    "weight = []\n",
    "\n",
    "for row in small_df.itertuples():\n",
    "    ones_height = row[1]\n",
    "    ones_weight = row[2]\n",
    "    height.append(ones_height)\n",
    "    weight.append(ones_weight)\n",
    "\n",
    "#'r = color, o = dots'\n",
    "#We can set this value with each persons.size val\n",
    "colors = ['go', 'yo', 'co', 'bo', 'ro', 'po', 'mo']\n",
    "plt.plot(height, weight, 'mo')\n",
    "plt.show()"
   ],
   "metadata": {
    "collapsed": false,
    "pycharm": {
     "name": "#%%\n"
    }
   }
  },
  {
   "cell_type": "code",
   "execution_count": 5,
   "outputs": [],
   "source": [],
   "metadata": {
    "collapsed": false,
    "pycharm": {
     "name": "#%%\n"
    }
   }
  },
  {
   "cell_type": "code",
   "execution_count": 6,
   "outputs": [
    {
     "data": {
      "text/plain": "39.300000000000004"
     },
     "execution_count": 6,
     "metadata": {},
     "output_type": "execute_result"
    }
   ],
   "source": [
    "weight_height_male_df['Kg'].min()\n",
    "#.round(decimal=1)"
   ],
   "metadata": {
    "collapsed": false,
    "pycharm": {
     "name": "#%%\n"
    }
   }
  },
  {
   "cell_type": "code",
   "execution_count": 70,
   "outputs": [],
   "source": [
    "class Size:\n",
    "    xs = \"XSMALL\"\n",
    "    s = \"SMALL\"\n",
    "    m = \"MEDIUM\"\n",
    "    l = \"LARGE\"\n",
    "    xl = \"XLARGE\"\n",
    "    xxl = \"XXLARGE\"\n",
    "    xxxl = \"XXXLARGE\"\n",
    "\n",
    "\n",
    "class Person:\n",
    "    def __init__(self, weight, height, *args):\n",
    "        self.weight = weight\n",
    "        self.height = height\n",
    "\n",
    "        #self.chestbreadth = args.chestbreadth\n",
    "        #self.waistbreadth = args.waistbreadth\n",
    "        #self.hipbreadth = args.hipbreadth\n",
    "\n",
    "        self.size = Size.xs if (height <= 169) & (weight <= 55) else Size.s if (height <= 178) & (weight <= 65) else Size.m if (height <= 182) & (weight <= 75) else Size.l if (height <= 186) & (weight <= 85) else Size.xl if (height <= 190) & (weight <= 90) else Size.xxl if (height <= 194) & (weight <= 95) else Size.xxxl\n"
   ],
   "metadata": {
    "collapsed": false,
    "pycharm": {
     "name": "#%%\n"
    }
   }
  },
  {
   "cell_type": "code",
   "execution_count": 71,
   "outputs": [],
   "source": [
    "people = []\n",
    "weight_height_male_df['Size'] = ''\n",
    "for row in weight_height_male_df.itertuples():\n",
    "    height = row[1]\n",
    "    weight = row[2]\n",
    "    person = Person(weight, height)\n",
    "    people.append(person)"
   ],
   "metadata": {
    "collapsed": false,
    "pycharm": {
     "name": "#%%\n"
    }
   }
  },
  {
   "cell_type": "code",
   "execution_count": 9,
   "outputs": [],
   "source": [
    "#weight_height_male_df"
   ],
   "metadata": {
    "collapsed": false,
    "pycharm": {
     "name": "#%%\n"
    }
   }
  },
  {
   "cell_type": "code",
   "execution_count": 10,
   "outputs": [
    {
     "data": {
      "text/plain": "'XXLARGE'"
     },
     "execution_count": 10,
     "metadata": {},
     "output_type": "execute_result"
    }
   ],
   "source": [
    "people[4].size"
   ],
   "metadata": {
    "collapsed": false,
    "pycharm": {
     "name": "#%%\n"
    }
   }
  },
  {
   "cell_type": "code",
   "execution_count": 10,
   "outputs": [],
   "source": [],
   "metadata": {
    "collapsed": false,
    "pycharm": {
     "name": "#%%\n"
    }
   }
  },
  {
   "cell_type": "code",
   "execution_count": 72,
   "outputs": [],
   "source": [
    "everyones_size = []\n",
    "for person in people:\n",
    "    everyones_size.append(person.size)\n",
    "\n",
    "weight_height_male_df['Size'] = everyones_size"
   ],
   "metadata": {
    "collapsed": false,
    "pycharm": {
     "name": "#%%\n"
    }
   }
  },
  {
   "cell_type": "code",
   "execution_count": 73,
   "outputs": [
    {
     "data": {
      "text/plain": "         Cm    Kg    Size  deltapoint\n3773  177.0  59.1   SMALL        1.81\n3183  177.4  59.6   SMALL        2.12\n4068  174.6  58.8   SMALL        3.40\n2490  174.3  59.0   SMALL        3.89\n88    174.0  59.0   SMALL        5.00\n1103  173.8  59.1   SMALL        5.65\n3875  175.0  57.8   SMALL        5.84\n2228  173.6  59.5   SMALL        6.01\n2965  173.9  58.7   SMALL        6.10\n2377  178.4  59.1  MEDIUM        6.57",
      "text/html": "<div>\n<style scoped>\n    .dataframe tbody tr th:only-of-type {\n        vertical-align: middle;\n    }\n\n    .dataframe tbody tr th {\n        vertical-align: top;\n    }\n\n    .dataframe thead th {\n        text-align: right;\n    }\n</style>\n<table border=\"1\" class=\"dataframe\">\n  <thead>\n    <tr style=\"text-align: right;\">\n      <th></th>\n      <th>Cm</th>\n      <th>Kg</th>\n      <th>Size</th>\n      <th>deltapoint</th>\n    </tr>\n  </thead>\n  <tbody>\n    <tr>\n      <th>3773</th>\n      <td>177.0</td>\n      <td>59.1</td>\n      <td>SMALL</td>\n      <td>1.81</td>\n    </tr>\n    <tr>\n      <th>3183</th>\n      <td>177.4</td>\n      <td>59.6</td>\n      <td>SMALL</td>\n      <td>2.12</td>\n    </tr>\n    <tr>\n      <th>4068</th>\n      <td>174.6</td>\n      <td>58.8</td>\n      <td>SMALL</td>\n      <td>3.40</td>\n    </tr>\n    <tr>\n      <th>2490</th>\n      <td>174.3</td>\n      <td>59.0</td>\n      <td>SMALL</td>\n      <td>3.89</td>\n    </tr>\n    <tr>\n      <th>88</th>\n      <td>174.0</td>\n      <td>59.0</td>\n      <td>SMALL</td>\n      <td>5.00</td>\n    </tr>\n    <tr>\n      <th>1103</th>\n      <td>173.8</td>\n      <td>59.1</td>\n      <td>SMALL</td>\n      <td>5.65</td>\n    </tr>\n    <tr>\n      <th>3875</th>\n      <td>175.0</td>\n      <td>57.8</td>\n      <td>SMALL</td>\n      <td>5.84</td>\n    </tr>\n    <tr>\n      <th>2228</th>\n      <td>173.6</td>\n      <td>59.5</td>\n      <td>SMALL</td>\n      <td>6.01</td>\n    </tr>\n    <tr>\n      <th>2965</th>\n      <td>173.9</td>\n      <td>58.7</td>\n      <td>SMALL</td>\n      <td>6.10</td>\n    </tr>\n    <tr>\n      <th>2377</th>\n      <td>178.4</td>\n      <td>59.1</td>\n      <td>MEDIUM</td>\n      <td>6.57</td>\n    </tr>\n  </tbody>\n</table>\n</div>"
     },
     "execution_count": 73,
     "metadata": {},
     "output_type": "execute_result"
    }
   ],
   "source": [
    "weight_height_male_df.head()\n",
    "small_df = weight_height_male_df.head(10)\n",
    "small_df.head(10)"
   ],
   "metadata": {
    "collapsed": false,
    "pycharm": {
     "name": "#%%\n"
    }
   }
  },
  {
   "cell_type": "code",
   "execution_count": 13,
   "outputs": [
    {
     "name": "stdout",
     "output_type": "stream",
     "text": [
      "[[0.         0.         0.1       ]\n",
      " [0.         0.1        0.2       ]\n",
      " [0.         0.36055513 0.5       ]\n",
      " ...\n",
      " [0.         0.31622777 0.4472136 ]\n",
      " [0.         0.2236068  0.4       ]\n",
      " [0.         0.2236068  0.60827625]]\n",
      "~~~~~~~~~~~~~~~~~~~~~~~~~~\n"
     ]
    }
   ],
   "source": [
    "from sklearn.neighbors import NearestNeighbors\n",
    "\n",
    "arr_of_ars_of_measurements = []\n",
    "for person in people:\n",
    "    measurements = [person.weight, person.height]\n",
    "    arr_of_ars_of_measurements.append(measurements)\n",
    "\n",
    "#https://scikit-learn.org/stable/modules/neighbors.html#classification\n",
    "# 1.6.1. Unsupervised Nearest Neighbors\n",
    "# x =  arr_of_ars_of_measurements\n",
    "\n",
    "neighbours = NearestNeighbors(n_neighbors=3, radius=0.2).fit(arr_of_ars_of_measurements)\n",
    "distances, indices = neighbours.kneighbors(arr_of_ars_of_measurements)\n",
    "\n",
    "print(distances)\n",
    "print('~~~~~~~~~~~~~~~~~~~~~~~~~~')\n",
    "#print(indices)"
   ],
   "metadata": {
    "collapsed": false,
    "pycharm": {
     "name": "#%%\n"
    }
   }
  },
  {
   "cell_type": "code",
   "execution_count": null,
   "outputs": [],
   "source": [
    "from sklearn.neighbors import KNeighborsClassifier\n",
    "\n",
    "KN_Classifier = KNeighborsClassifier(n_neighbors=3)\n",
    "\n",
    "values = []\n",
    "sizes  = []\n",
    "\n",
    "for person in people:\n",
    "    print(person.weight)\n",
    "    print(person.height)\n",
    "    kg_and_cm = [round(person.weight,3), round(person.height, 3)]\n",
    "    values.append(kg_and_cm)\n",
    "    sizes.append(person.size)\n",
    "\n",
    "\n",
    "reshaped_measurements = np.array(values).reshape(-1, 2)\n",
    "#reshaped_measurements[person][0 = weight, 1 = height]\n",
    "#one_one = reshaped_measurements[1][1]\n",
    "KN_Classifier.fit(reshaped_measurements, sizes)\n",
    "\n",
    "min_vikt = [[60, 176]]\n",
    "prediction_size = KN_Classifier.predict(min_vikt)\n",
    "probability = KN_Classifier.predict_proba(min_vikt)\n",
    "score = KN_Classifier.score"
   ],
   "metadata": {
    "collapsed": false,
    "pycharm": {
     "name": "#%%\n",
     "is_executing": true
    }
   }
  },
  {
   "cell_type": "code",
   "execution_count": 15,
   "outputs": [
    {
     "name": "stdout",
     "output_type": "stream",
     "text": [
      "~~~~~~~~~~~~~~~~~~~~~~~~~~~~~~~~~~~~~~~~~\n",
      "Predicted Size: ['SMALL']\n",
      "\n",
      "~~~~~~~~~~~~~~~~~~~~~~~~~~~~~~~~~~~~~~~~~\n",
      "Probability: \n",
      "xs|~~~~~~~|s|~~~~~~~|m|~~~~~~~|l|~~~~~~~|xl|~~~~~~|xxl|~~~~~|xxxl|\n",
      "[0. 0. 1. 0. 0. 0. 0.]\n",
      "~~~~~~~~~~~~~~~~~~~~~~~~~~~~~~~~~~~~~~~~~\n",
      "<bound method ClassifierMixin.score of KNeighborsClassifier(n_neighbors=3)>\n"
     ]
    }
   ],
   "source": [
    "print('~~~~~~~~~~~~~~~~~~~~~~~~~~~~~~~~~~~~~~~~~')\n",
    "print('Predicted Size: ' + str(prediction_size))\n",
    "print()\n",
    "print('~~~~~~~~~~~~~~~~~~~~~~~~~~~~~~~~~~~~~~~~~')\n",
    "print('Probability: ')\n",
    "print('xs|~~~~~~~|s|~~~~~~~|m|~~~~~~~|l|~~~~~~~|xl|~~~~~~|xxl|~~~~~|xxxl|')\n",
    "print(probability[0])\n",
    "for accuracy in probability[0]:\n",
    "    pass\n",
    "    #print(probability[])\n",
    "print('~~~~~~~~~~~~~~~~~~~~~~~~~~~~~~~~~~~~~~~~~')\n",
    "print(score)"
   ],
   "metadata": {
    "collapsed": false,
    "pycharm": {
     "name": "#%%\n"
    }
   }
  },
  {
   "cell_type": "code",
   "execution_count": 74,
   "outputs": [],
   "source": [
    "#compare user input weight and length to ALL OTHER weights and lengths in dataset\n",
    "#calculate hypotenuse\n",
    "#sort those values and get k closest values\n",
    "\n",
    "import math\n",
    "my_weight = 60\n",
    "my_length = 176\n",
    "\n",
    "deltas = []\n",
    "for person in people:\n",
    "    height_diff = 0.0\n",
    "    weight_diff = 0.0\n",
    "\n",
    "# if checks to make sure we always get positive values\n",
    "    if person.height > my_length:\n",
    "        height_diff = person.height - my_length\n",
    "    else: height_diff = my_length - person.height\n",
    "\n",
    "    if person.weight > my_weight:\n",
    "        weight_diff = person.weight - my_length\n",
    "    else: weight_diff = my_weight - person.weight\n",
    "\n",
    "    height_diff = height_diff * height_diff\n",
    "    weight_diff = weight_diff * weight_diff\n",
    "\n",
    "    delta = height_diff + weight_diff\n",
    "    #delta = math.sqrt(delta)\n",
    "    deltas.append(delta)\n",
    "\n",
    "weight_height_male_df['deltapoint'] = deltas\n",
    "weight_height_male_df = weight_height_male_df.sort_values(by='deltapoint')\n",
    "#print(deltas)"
   ],
   "metadata": {
    "collapsed": false,
    "pycharm": {
     "name": "#%%\n"
    }
   }
  },
  {
   "cell_type": "code",
   "execution_count": 75,
   "outputs": [
    {
     "data": {
      "text/plain": "         Cm    Kg    Size  deltapoint\n3773  177.0  59.1   SMALL        1.81\n3183  177.4  59.6   SMALL        2.12\n4068  174.6  58.8   SMALL        3.40\n2490  174.3  59.0   SMALL        3.89\n88    174.0  59.0   SMALL        5.00\n1103  173.8  59.1   SMALL        5.65\n3875  175.0  57.8   SMALL        5.84\n2228  173.6  59.5   SMALL        6.01\n2965  173.9  58.7   SMALL        6.10\n2377  178.4  59.1  MEDIUM        6.57\n1940  173.4  58.7   SMALL        8.45\n40    174.4  57.5   SMALL        8.81\n1092  173.5  57.9   SMALL       10.66\n1071  172.8  59.3   SMALL       10.73\n1818  178.7  57.2  MEDIUM       15.13\n716   171.9  59.6   SMALL       16.97\n2440  180.7  59.6  MEDIUM       22.25\n1755  171.0  59.9   SMALL       25.01\n3733  171.7  57.4   SMALL       25.25\n3615  170.7  58.7   SMALL       29.78",
      "text/html": "<div>\n<style scoped>\n    .dataframe tbody tr th:only-of-type {\n        vertical-align: middle;\n    }\n\n    .dataframe tbody tr th {\n        vertical-align: top;\n    }\n\n    .dataframe thead th {\n        text-align: right;\n    }\n</style>\n<table border=\"1\" class=\"dataframe\">\n  <thead>\n    <tr style=\"text-align: right;\">\n      <th></th>\n      <th>Cm</th>\n      <th>Kg</th>\n      <th>Size</th>\n      <th>deltapoint</th>\n    </tr>\n  </thead>\n  <tbody>\n    <tr>\n      <th>3773</th>\n      <td>177.0</td>\n      <td>59.1</td>\n      <td>SMALL</td>\n      <td>1.81</td>\n    </tr>\n    <tr>\n      <th>3183</th>\n      <td>177.4</td>\n      <td>59.6</td>\n      <td>SMALL</td>\n      <td>2.12</td>\n    </tr>\n    <tr>\n      <th>4068</th>\n      <td>174.6</td>\n      <td>58.8</td>\n      <td>SMALL</td>\n      <td>3.40</td>\n    </tr>\n    <tr>\n      <th>2490</th>\n      <td>174.3</td>\n      <td>59.0</td>\n      <td>SMALL</td>\n      <td>3.89</td>\n    </tr>\n    <tr>\n      <th>88</th>\n      <td>174.0</td>\n      <td>59.0</td>\n      <td>SMALL</td>\n      <td>5.00</td>\n    </tr>\n    <tr>\n      <th>1103</th>\n      <td>173.8</td>\n      <td>59.1</td>\n      <td>SMALL</td>\n      <td>5.65</td>\n    </tr>\n    <tr>\n      <th>3875</th>\n      <td>175.0</td>\n      <td>57.8</td>\n      <td>SMALL</td>\n      <td>5.84</td>\n    </tr>\n    <tr>\n      <th>2228</th>\n      <td>173.6</td>\n      <td>59.5</td>\n      <td>SMALL</td>\n      <td>6.01</td>\n    </tr>\n    <tr>\n      <th>2965</th>\n      <td>173.9</td>\n      <td>58.7</td>\n      <td>SMALL</td>\n      <td>6.10</td>\n    </tr>\n    <tr>\n      <th>2377</th>\n      <td>178.4</td>\n      <td>59.1</td>\n      <td>MEDIUM</td>\n      <td>6.57</td>\n    </tr>\n    <tr>\n      <th>1940</th>\n      <td>173.4</td>\n      <td>58.7</td>\n      <td>SMALL</td>\n      <td>8.45</td>\n    </tr>\n    <tr>\n      <th>40</th>\n      <td>174.4</td>\n      <td>57.5</td>\n      <td>SMALL</td>\n      <td>8.81</td>\n    </tr>\n    <tr>\n      <th>1092</th>\n      <td>173.5</td>\n      <td>57.9</td>\n      <td>SMALL</td>\n      <td>10.66</td>\n    </tr>\n    <tr>\n      <th>1071</th>\n      <td>172.8</td>\n      <td>59.3</td>\n      <td>SMALL</td>\n      <td>10.73</td>\n    </tr>\n    <tr>\n      <th>1818</th>\n      <td>178.7</td>\n      <td>57.2</td>\n      <td>MEDIUM</td>\n      <td>15.13</td>\n    </tr>\n    <tr>\n      <th>716</th>\n      <td>171.9</td>\n      <td>59.6</td>\n      <td>SMALL</td>\n      <td>16.97</td>\n    </tr>\n    <tr>\n      <th>2440</th>\n      <td>180.7</td>\n      <td>59.6</td>\n      <td>MEDIUM</td>\n      <td>22.25</td>\n    </tr>\n    <tr>\n      <th>1755</th>\n      <td>171.0</td>\n      <td>59.9</td>\n      <td>SMALL</td>\n      <td>25.01</td>\n    </tr>\n    <tr>\n      <th>3733</th>\n      <td>171.7</td>\n      <td>57.4</td>\n      <td>SMALL</td>\n      <td>25.25</td>\n    </tr>\n    <tr>\n      <th>3615</th>\n      <td>170.7</td>\n      <td>58.7</td>\n      <td>SMALL</td>\n      <td>29.78</td>\n    </tr>\n  </tbody>\n</table>\n</div>"
     },
     "execution_count": 75,
     "metadata": {},
     "output_type": "execute_result"
    }
   ],
   "source": [
    "# 20_nearest_neighbours\n",
    "weight_height_male_df = weight_height_male_df.sort_values(by='deltapoint')\n",
    "weight_height_male_df.head(20)"
   ],
   "metadata": {
    "collapsed": false,
    "pycharm": {
     "name": "#%%\n"
    }
   }
  },
  {
   "cell_type": "code",
   "execution_count": 66,
   "outputs": [
    {
     "ename": "KeyboardInterrupt",
     "evalue": "",
     "output_type": "error",
     "traceback": [
      "\u001B[1;31m---------------------------------------------------------------------------\u001B[0m",
      "\u001B[1;31mKeyboardInterrupt\u001B[0m                         Traceback (most recent call last)",
      "Input \u001B[1;32mIn [66]\u001B[0m, in \u001B[0;36m<cell line: 15>\u001B[1;34m()\u001B[0m\n\u001B[0;32m     12\u001B[0m     neighbour\u001B[38;5;241m.\u001B[39mappend(distance)\n\u001B[0;32m     13\u001B[0m     neighbour_list\u001B[38;5;241m.\u001B[39mappend(neighbour)\n\u001B[1;32m---> 15\u001B[0m list_of_sizes \u001B[38;5;241m=\u001B[39m []\n\u001B[0;32m     16\u001B[0m \u001B[38;5;28;01mfor\u001B[39;00m size \u001B[38;5;129;01min\u001B[39;00m neighbour_list:\n\u001B[0;32m     17\u001B[0m     \u001B[38;5;28mprint\u001B[39m(size[\u001B[38;5;241m0\u001B[39m])\n",
      "Input \u001B[1;32mIn [66]\u001B[0m, in \u001B[0;36m<cell line: 15>\u001B[1;34m()\u001B[0m\n\u001B[0;32m     12\u001B[0m     neighbour\u001B[38;5;241m.\u001B[39mappend(distance)\n\u001B[0;32m     13\u001B[0m     neighbour_list\u001B[38;5;241m.\u001B[39mappend(neighbour)\n\u001B[1;32m---> 15\u001B[0m list_of_sizes \u001B[38;5;241m=\u001B[39m []\n\u001B[0;32m     16\u001B[0m \u001B[38;5;28;01mfor\u001B[39;00m size \u001B[38;5;129;01min\u001B[39;00m neighbour_list:\n\u001B[0;32m     17\u001B[0m     \u001B[38;5;28mprint\u001B[39m(size[\u001B[38;5;241m0\u001B[39m])\n",
      "File \u001B[1;32m_pydevd_bundle\\pydevd_cython_win32_310_64.pyx:1180\u001B[0m, in \u001B[0;36m_pydevd_bundle.pydevd_cython_win32_310_64.SafeCallWrapper.__call__\u001B[1;34m()\u001B[0m\n",
      "File \u001B[1;32m_pydevd_bundle\\pydevd_cython_win32_310_64.pyx:621\u001B[0m, in \u001B[0;36m_pydevd_bundle.pydevd_cython_win32_310_64.PyDBFrame.trace_dispatch\u001B[1;34m()\u001B[0m\n",
      "File \u001B[1;32m_pydevd_bundle\\pydevd_cython_win32_310_64.pyx:930\u001B[0m, in \u001B[0;36m_pydevd_bundle.pydevd_cython_win32_310_64.PyDBFrame.trace_dispatch\u001B[1;34m()\u001B[0m\n",
      "File \u001B[1;32m_pydevd_bundle\\pydevd_cython_win32_310_64.pyx:921\u001B[0m, in \u001B[0;36m_pydevd_bundle.pydevd_cython_win32_310_64.PyDBFrame.trace_dispatch\u001B[1;34m()\u001B[0m\n",
      "File \u001B[1;32m_pydevd_bundle\\pydevd_cython_win32_310_64.pyx:318\u001B[0m, in \u001B[0;36m_pydevd_bundle.pydevd_cython_win32_310_64.PyDBFrame.do_wait_suspend\u001B[1;34m()\u001B[0m\n",
      "File \u001B[1;32m~\\AppData\\Local\\JetBrains\\Toolbox\\apps\\PyCharm-P\\ch-0\\213.7172.26\\plugins\\python\\helpers\\pydev\\pydevd.py:1147\u001B[0m, in \u001B[0;36mPyDB.do_wait_suspend\u001B[1;34m(self, thread, frame, event, arg, send_suspend_message, is_unhandled_exception)\u001B[0m\n\u001B[0;32m   1144\u001B[0m         from_this_thread\u001B[38;5;241m.\u001B[39mappend(frame_id)\n\u001B[0;32m   1146\u001B[0m \u001B[38;5;28;01mwith\u001B[39;00m \u001B[38;5;28mself\u001B[39m\u001B[38;5;241m.\u001B[39m_threads_suspended_single_notification\u001B[38;5;241m.\u001B[39mnotify_thread_suspended(thread_id, stop_reason):\n\u001B[1;32m-> 1147\u001B[0m     \u001B[38;5;28;43mself\u001B[39;49m\u001B[38;5;241;43m.\u001B[39;49m\u001B[43m_do_wait_suspend\u001B[49m\u001B[43m(\u001B[49m\u001B[43mthread\u001B[49m\u001B[43m,\u001B[49m\u001B[43m \u001B[49m\u001B[43mframe\u001B[49m\u001B[43m,\u001B[49m\u001B[43m \u001B[49m\u001B[43mevent\u001B[49m\u001B[43m,\u001B[49m\u001B[43m \u001B[49m\u001B[43marg\u001B[49m\u001B[43m,\u001B[49m\u001B[43m \u001B[49m\u001B[43msuspend_type\u001B[49m\u001B[43m,\u001B[49m\u001B[43m \u001B[49m\u001B[43mfrom_this_thread\u001B[49m\u001B[43m)\u001B[49m\n",
      "File \u001B[1;32m~\\AppData\\Local\\JetBrains\\Toolbox\\apps\\PyCharm-P\\ch-0\\213.7172.26\\plugins\\python\\helpers\\pydev\\pydevd.py:1162\u001B[0m, in \u001B[0;36mPyDB._do_wait_suspend\u001B[1;34m(self, thread, frame, event, arg, suspend_type, from_this_thread)\u001B[0m\n\u001B[0;32m   1159\u001B[0m             \u001B[38;5;28mself\u001B[39m\u001B[38;5;241m.\u001B[39m_call_mpl_hook()\n\u001B[0;32m   1161\u001B[0m         \u001B[38;5;28mself\u001B[39m\u001B[38;5;241m.\u001B[39mprocess_internal_commands()\n\u001B[1;32m-> 1162\u001B[0m         \u001B[43mtime\u001B[49m\u001B[38;5;241;43m.\u001B[39;49m\u001B[43msleep\u001B[49m\u001B[43m(\u001B[49m\u001B[38;5;241;43m0.01\u001B[39;49m\u001B[43m)\u001B[49m\n\u001B[0;32m   1164\u001B[0m \u001B[38;5;28mself\u001B[39m\u001B[38;5;241m.\u001B[39mcancel_async_evaluation(get_current_thread_id(thread), \u001B[38;5;28mstr\u001B[39m(\u001B[38;5;28mid\u001B[39m(frame)))\n\u001B[0;32m   1166\u001B[0m \u001B[38;5;66;03m# process any stepping instructions\u001B[39;00m\n",
      "\u001B[1;31mKeyboardInterrupt\u001B[0m: "
     ]
    }
   ],
   "source": [
    "import enum\n",
    "\n",
    "k = 10\n",
    "neighbors = weight_height_male_df.head(k)\n",
    "neighbour_list = []\n",
    "\n",
    "for row in neighbors.itertuples():\n",
    "    neighbour = []\n",
    "    size = row[3]\n",
    "    distance = row[4]\n",
    "    neighbour.append(size)\n",
    "    neighbour.append(distance)\n",
    "    neighbour_list.append(neighbour)\n",
    "\n",
    "list_of_sizes = []\n",
    "for size in neighbour_list:\n",
    "    print(size[0])\n",
    "    list_of_sizes.append(size[0])\n",
    "\n",
    "most_common_size = max(set(list_of_sizes), key=list_of_sizes.count)\n",
    "print('Reccomended Size: ' + most_common_size)\n",
    "\n",
    "#check majority of unique values in list\n",
    "#TODO: Get % of each size\n",
    "\n",
    "#for unique_val in list_of_sizes:\n",
    "#    unique_val ++\n",
    "\n",
    "#unique_val/len(list_of_sizes)\n",
    "\n",
    "#print(neighbors)\n",
    "# 1/k = %"
   ],
   "metadata": {
    "collapsed": false,
    "pycharm": {
     "name": "#%%\n"
    }
   }
  },
  {
   "cell_type": "code",
   "execution_count": 41,
   "outputs": [],
   "source": [
    "#min_vikt = [[60, 176]]\n",
    "#print(KN_Classifier.predict(min_vikt))\n",
    "#first_20 = deltas[:19]\n",
    "#plt.plot(deltas, weights, 'ro')"
   ],
   "metadata": {
    "collapsed": false,
    "pycharm": {
     "name": "#%%\n"
    }
   }
  },
  {
   "cell_type": "code",
   "execution_count": 42,
   "outputs": [],
   "source": [
    "#plt.plot(deltas, lengths, 'ro')"
   ],
   "metadata": {
    "collapsed": false,
    "pycharm": {
     "name": "#%%\n"
    }
   }
  },
  {
   "cell_type": "code",
   "execution_count": 33,
   "outputs": [],
   "source": [
    "my_delta\n",
    "\n",
    "#s = weight_height_male_df.set_index('deltapoint').sub(my_delta).abs().idxmin()\n",
    "\n",
    "closest_delta_list = []\n",
    "\n",
    "for measurement in weight_height_male_df.itertuples():\n",
    "    closest_delta_list.append(measurement[4])\n",
    "\n",
    "for deltapoint in closest_delta_list:\n",
    "    deltapoint = deltapoint - my_delta\n",
    "    # val closest to 0 is nearest neighbor."
   ],
   "metadata": {
    "collapsed": false,
    "pycharm": {
     "name": "#%%\n"
    }
   }
  },
  {
   "cell_type": "code",
   "execution_count": null,
   "outputs": [],
   "source": [
    "adding_to_df = weight_height_male_df\n",
    "\n",
    "adding_to_df\n",
    "\n"
   ],
   "metadata": {
    "collapsed": false,
    "pycharm": {
     "name": "#%%\n"
    }
   }
  }
 ],
 "metadata": {
  "kernelspec": {
   "display_name": "Python 3",
   "language": "python",
   "name": "python3"
  },
  "language_info": {
   "codemirror_mode": {
    "name": "ipython",
    "version": 2
   },
   "file_extension": ".py",
   "mimetype": "text/x-python",
   "name": "python",
   "nbconvert_exporter": "python",
   "pygments_lexer": "ipython2",
   "version": "2.7.6"
  }
 },
 "nbformat": 4,
 "nbformat_minor": 0
}