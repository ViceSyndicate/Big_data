{
 "cells": [
  {
   "cell_type": "code",
   "execution_count": 76,
   "metadata": {
    "collapsed": true
   },
   "outputs": [],
   "source": [
    "import pandas as pd\n",
    "import matplotlib.pyplot as plt\n",
    "import numpy as np"
   ]
  },
  {
   "cell_type": "code",
   "execution_count": 77,
   "outputs": [],
   "source": [
    "male_df = pd.read_csv('C:\\School\\BigData\\Big_Data\\male.csv')"
   ],
   "metadata": {
    "collapsed": false,
    "pycharm": {
     "name": "#%%\n"
    }
   }
  },
  {
   "cell_type": "code",
   "execution_count": 78,
   "outputs": [
    {
     "data": {
      "text/plain": "   stature  weightkg  chestbreadth  waistbreadth  hipbreadth  \\\n0     1776       815           291           329         332   \n1     1702       726           269           316         312   \n2     1735       929           288           329         349   \n3     1655       794           296           315         338   \n4     1914       946           304           303         332   \n\n   waistcircumference Ethnicity  \n0                 933       NaN  \n1                 870       NaN  \n2                 964       NaN  \n3                 857       NaN  \n4                 868       NaN  ",
      "text/html": "<div>\n<style scoped>\n    .dataframe tbody tr th:only-of-type {\n        vertical-align: middle;\n    }\n\n    .dataframe tbody tr th {\n        vertical-align: top;\n    }\n\n    .dataframe thead th {\n        text-align: right;\n    }\n</style>\n<table border=\"1\" class=\"dataframe\">\n  <thead>\n    <tr style=\"text-align: right;\">\n      <th></th>\n      <th>stature</th>\n      <th>weightkg</th>\n      <th>chestbreadth</th>\n      <th>waistbreadth</th>\n      <th>hipbreadth</th>\n      <th>waistcircumference</th>\n      <th>Ethnicity</th>\n    </tr>\n  </thead>\n  <tbody>\n    <tr>\n      <th>0</th>\n      <td>1776</td>\n      <td>815</td>\n      <td>291</td>\n      <td>329</td>\n      <td>332</td>\n      <td>933</td>\n      <td>NaN</td>\n    </tr>\n    <tr>\n      <th>1</th>\n      <td>1702</td>\n      <td>726</td>\n      <td>269</td>\n      <td>316</td>\n      <td>312</td>\n      <td>870</td>\n      <td>NaN</td>\n    </tr>\n    <tr>\n      <th>2</th>\n      <td>1735</td>\n      <td>929</td>\n      <td>288</td>\n      <td>329</td>\n      <td>349</td>\n      <td>964</td>\n      <td>NaN</td>\n    </tr>\n    <tr>\n      <th>3</th>\n      <td>1655</td>\n      <td>794</td>\n      <td>296</td>\n      <td>315</td>\n      <td>338</td>\n      <td>857</td>\n      <td>NaN</td>\n    </tr>\n    <tr>\n      <th>4</th>\n      <td>1914</td>\n      <td>946</td>\n      <td>304</td>\n      <td>303</td>\n      <td>332</td>\n      <td>868</td>\n      <td>NaN</td>\n    </tr>\n  </tbody>\n</table>\n</div>"
     },
     "execution_count": 78,
     "metadata": {},
     "output_type": "execute_result"
    }
   ],
   "source": [
    "trimmed_male_data = male_df[['stature', 'weightkg', 'chestbreadth', 'waistbreadth', 'hipbreadth', 'waistcircumference', 'Ethnicity']]\n",
    "#male_df.head()\n",
    "test_df = trimmed_male_data.head()\n",
    "test_df.tail()"
   ],
   "metadata": {
    "collapsed": false,
    "pycharm": {
     "name": "#%%\n"
    }
   }
  },
  {
   "cell_type": "code",
   "execution_count": 82,
   "outputs": [
    {
     "data": {
      "text/plain": "         Cm    Kg\n0     177.6  81.5\n1     170.2  72.6\n2     173.5  92.9\n3     165.5  79.4\n4     191.4  94.6\n...     ...   ...\n4077  168.8  67.5\n4078  176.5  89.6\n4079  169.0  83.2\n4080  171.8  73.1\n4081  182.8  98.5\n\n[4082 rows x 2 columns]",
      "text/html": "<div>\n<style scoped>\n    .dataframe tbody tr th:only-of-type {\n        vertical-align: middle;\n    }\n\n    .dataframe tbody tr th {\n        vertical-align: top;\n    }\n\n    .dataframe thead th {\n        text-align: right;\n    }\n</style>\n<table border=\"1\" class=\"dataframe\">\n  <thead>\n    <tr style=\"text-align: right;\">\n      <th></th>\n      <th>Cm</th>\n      <th>Kg</th>\n    </tr>\n  </thead>\n  <tbody>\n    <tr>\n      <th>0</th>\n      <td>177.6</td>\n      <td>81.5</td>\n    </tr>\n    <tr>\n      <th>1</th>\n      <td>170.2</td>\n      <td>72.6</td>\n    </tr>\n    <tr>\n      <th>2</th>\n      <td>173.5</td>\n      <td>92.9</td>\n    </tr>\n    <tr>\n      <th>3</th>\n      <td>165.5</td>\n      <td>79.4</td>\n    </tr>\n    <tr>\n      <th>4</th>\n      <td>191.4</td>\n      <td>94.6</td>\n    </tr>\n    <tr>\n      <th>...</th>\n      <td>...</td>\n      <td>...</td>\n    </tr>\n    <tr>\n      <th>4077</th>\n      <td>168.8</td>\n      <td>67.5</td>\n    </tr>\n    <tr>\n      <th>4078</th>\n      <td>176.5</td>\n      <td>89.6</td>\n    </tr>\n    <tr>\n      <th>4079</th>\n      <td>169.0</td>\n      <td>83.2</td>\n    </tr>\n    <tr>\n      <th>4080</th>\n      <td>171.8</td>\n      <td>73.1</td>\n    </tr>\n    <tr>\n      <th>4081</th>\n      <td>182.8</td>\n      <td>98.5</td>\n    </tr>\n  </tbody>\n</table>\n<p>4082 rows × 2 columns</p>\n</div>"
     },
     "execution_count": 82,
     "metadata": {},
     "output_type": "execute_result"
    }
   ],
   "source": [
    "#weight_height_male = trimmed_male_data['stature', 'weightkg']\n",
    "weight_height_male_df = pd.read_csv('C:\\School\\BigData\\Big_Data\\male.csv', usecols=['stature', 'weightkg'])\n",
    "weight_height_male_df.rename(columns={'weightkg':'Kg', 'stature':'Cm'}, inplace=True)\n",
    "weight_height_male_df['Kg'] = weight_height_male_df['Kg'].multiply(0.1)\n",
    "weight_height_male_df['Cm'] = weight_height_male_df['Cm'].multiply(0.1)\n",
    "\n",
    "weight_height_male_df"
   ],
   "metadata": {
    "collapsed": false,
    "pycharm": {
     "name": "#%%\n"
    }
   }
  },
  {
   "cell_type": "code",
   "execution_count": 161,
   "outputs": [
    {
     "data": {
      "text/plain": "<AxesSubplot:xlabel='Kg', ylabel='Cm'>"
     },
     "execution_count": 161,
     "metadata": {},
     "output_type": "execute_result"
    },
    {
     "data": {
      "text/plain": "<Figure size 432x288 with 1 Axes>",
      "image/png": "[encoded data removed]"
     },
     "metadata": {
      "needs_background": "light"
     },
     "output_type": "display_data"
    }
   ],
   "source": [
    "weight_height_male_df.plot(x='Kg', y='Cm', kind='scatter')"
   ],
   "metadata": {
    "collapsed": false,
    "pycharm": {
     "name": "#%%\n"
    }
   }
  },
  {
   "cell_type": "code",
   "execution_count": null,
   "outputs": [],
   "source": [],
   "metadata": {
    "collapsed": false,
    "pycharm": {
     "name": "#%%\n"
    }
   }
  },
  {
   "cell_type": "code",
   "execution_count": 83,
   "outputs": [
    {
     "data": {
      "text/plain": "39.300000000000004"
     },
     "execution_count": 83,
     "metadata": {},
     "output_type": "execute_result"
    }
   ],
   "source": [
    "weight_height_male_df['Kg'].min()\n",
    "#.round(decimal=1)"
   ],
   "metadata": {
    "collapsed": false,
    "pycharm": {
     "name": "#%%\n"
    }
   }
  },
  {
   "cell_type": "code",
   "execution_count": 140,
   "outputs": [],
   "source": [
    "class Size:\n",
    "    xs = \"XSMALL\"\n",
    "    s = \"SMALL\"\n",
    "    m = \"MEDIUM\"\n",
    "    l = \"LARGE\"\n",
    "    xl = \"XLARGE\"\n",
    "    xxl = \"XXLARGE\"\n",
    "    xxxl = \"XXXLARGE\"\n",
    "\n",
    "\n",
    "class Person:\n",
    "    def __init__(self, weight, height):\n",
    "        self.weight = weight\n",
    "        self.height = height\n",
    "        self.Size = Size.xs if height <= 169 else Size.s if height <= 178 else Size.m if height <=182 else Size.l if height <= 186 else Size.xl if height <= 190 else Size.xxl if height <= 194 else Size.xxxl\n"
   ],
   "metadata": {
    "collapsed": false,
    "pycharm": {
     "name": "#%%\n"
    }
   }
  },
  {
   "cell_type": "code",
   "execution_count": 141,
   "outputs": [],
   "source": [
    "people = []\n",
    "\n",
    "\n",
    "\n",
    "weight_height_male_df['Size'] = ''\n",
    "for row in weight_height_male_df.itertuples():\n",
    "    height = row[1]\n",
    "    weight = row[2]\n",
    "    person = Person(weight, height)\n",
    "    people.append(person)"
   ],
   "metadata": {
    "collapsed": false,
    "pycharm": {
     "name": "#%%\n"
    }
   }
  },
  {
   "cell_type": "code",
   "execution_count": 128,
   "outputs": [
    {
     "data": {
      "text/plain": "         Cm    Kg Size\n0     177.6  81.5     \n1     170.2  72.6     \n2     173.5  92.9     \n3     165.5  79.4     \n4     191.4  94.6     \n...     ...   ...  ...\n4077  168.8  67.5     \n4078  176.5  89.6     \n4079  169.0  83.2     \n4080  171.8  73.1     \n4081  182.8  98.5     \n\n[4082 rows x 3 columns]",
      "text/html": "<div>\n<style scoped>\n    .dataframe tbody tr th:only-of-type {\n        vertical-align: middle;\n    }\n\n    .dataframe tbody tr th {\n        vertical-align: top;\n    }\n\n    .dataframe thead th {\n        text-align: right;\n    }\n</style>\n<table border=\"1\" class=\"dataframe\">\n  <thead>\n    <tr style=\"text-align: right;\">\n      <th></th>\n      <th>Cm</th>\n      <th>Kg</th>\n      <th>Size</th>\n    </tr>\n  </thead>\n  <tbody>\n    <tr>\n      <th>0</th>\n      <td>177.6</td>\n      <td>81.5</td>\n      <td></td>\n    </tr>\n    <tr>\n      <th>1</th>\n      <td>170.2</td>\n      <td>72.6</td>\n      <td></td>\n    </tr>\n    <tr>\n      <th>2</th>\n      <td>173.5</td>\n      <td>92.9</td>\n      <td></td>\n    </tr>\n    <tr>\n      <th>3</th>\n      <td>165.5</td>\n      <td>79.4</td>\n      <td></td>\n    </tr>\n    <tr>\n      <th>4</th>\n      <td>191.4</td>\n      <td>94.6</td>\n      <td></td>\n    </tr>\n    <tr>\n      <th>...</th>\n      <td>...</td>\n      <td>...</td>\n      <td>...</td>\n    </tr>\n    <tr>\n      <th>4077</th>\n      <td>168.8</td>\n      <td>67.5</td>\n      <td></td>\n    </tr>\n    <tr>\n      <th>4078</th>\n      <td>176.5</td>\n      <td>89.6</td>\n      <td></td>\n    </tr>\n    <tr>\n      <th>4079</th>\n      <td>169.0</td>\n      <td>83.2</td>\n      <td></td>\n    </tr>\n    <tr>\n      <th>4080</th>\n      <td>171.8</td>\n      <td>73.1</td>\n      <td></td>\n    </tr>\n    <tr>\n      <th>4081</th>\n      <td>182.8</td>\n      <td>98.5</td>\n      <td></td>\n    </tr>\n  </tbody>\n</table>\n<p>4082 rows × 3 columns</p>\n</div>"
     },
     "execution_count": 128,
     "metadata": {},
     "output_type": "execute_result"
    }
   ],
   "source": [
    "weight_height_male_df"
   ],
   "metadata": {
    "collapsed": false,
    "pycharm": {
     "name": "#%%\n"
    }
   }
  },
  {
   "cell_type": "code",
   "execution_count": 147,
   "outputs": [
    {
     "data": {
      "text/plain": "'XXLARGE'"
     },
     "execution_count": 147,
     "metadata": {},
     "output_type": "execute_result"
    }
   ],
   "source": [
    "people[4].Size"
   ],
   "metadata": {
    "collapsed": false,
    "pycharm": {
     "name": "#%%\n"
    }
   }
  },
  {
   "cell_type": "code",
   "execution_count": 145,
   "outputs": [
    {
     "data": {
      "text/plain": "      Cm    Kg Size\n0  177.6  81.5     \n1  170.2  72.6     \n2  173.5  92.9     \n3  165.5  79.4     \n4  191.4  94.6     ",
      "text/html": "<div>\n<style scoped>\n    .dataframe tbody tr th:only-of-type {\n        vertical-align: middle;\n    }\n\n    .dataframe tbody tr th {\n        vertical-align: top;\n    }\n\n    .dataframe thead th {\n        text-align: right;\n    }\n</style>\n<table border=\"1\" class=\"dataframe\">\n  <thead>\n    <tr style=\"text-align: right;\">\n      <th></th>\n      <th>Cm</th>\n      <th>Kg</th>\n      <th>Size</th>\n    </tr>\n  </thead>\n  <tbody>\n    <tr>\n      <th>0</th>\n      <td>177.6</td>\n      <td>81.5</td>\n      <td></td>\n    </tr>\n    <tr>\n      <th>1</th>\n      <td>170.2</td>\n      <td>72.6</td>\n      <td></td>\n    </tr>\n    <tr>\n      <th>2</th>\n      <td>173.5</td>\n      <td>92.9</td>\n      <td></td>\n    </tr>\n    <tr>\n      <th>3</th>\n      <td>165.5</td>\n      <td>79.4</td>\n      <td></td>\n    </tr>\n    <tr>\n      <th>4</th>\n      <td>191.4</td>\n      <td>94.6</td>\n      <td></td>\n    </tr>\n  </tbody>\n</table>\n</div>"
     },
     "execution_count": 145,
     "metadata": {},
     "output_type": "execute_result"
    }
   ],
   "source": [
    "weight_height_male_df.head()"
   ],
   "metadata": {
    "collapsed": false,
    "pycharm": {
     "name": "#%%\n"
    }
   }
  },
  {
   "cell_type": "code",
   "execution_count": 184,
   "outputs": [],
   "source": [
    "everyones_size = []\n",
    "for person in people:\n",
    "    everyones_size.append(person.Size)\n",
    "\n",
    "weight_height_male_df['Size'] = everyones_size"
   ],
   "metadata": {
    "collapsed": false,
    "pycharm": {
     "name": "#%%\n"
    }
   }
  },
  {
   "cell_type": "code",
   "execution_count": 185,
   "outputs": [
    {
     "data": {
      "text/plain": "      Cm    Kg     Size\n0  177.6  81.5    SMALL\n1  170.2  72.6    SMALL\n2  173.5  92.9    SMALL\n3  165.5  79.4   XSMALL\n4  191.4  94.6  XXLARGE",
      "text/html": "<div>\n<style scoped>\n    .dataframe tbody tr th:only-of-type {\n        vertical-align: middle;\n    }\n\n    .dataframe tbody tr th {\n        vertical-align: top;\n    }\n\n    .dataframe thead th {\n        text-align: right;\n    }\n</style>\n<table border=\"1\" class=\"dataframe\">\n  <thead>\n    <tr style=\"text-align: right;\">\n      <th></th>\n      <th>Cm</th>\n      <th>Kg</th>\n      <th>Size</th>\n    </tr>\n  </thead>\n  <tbody>\n    <tr>\n      <th>0</th>\n      <td>177.6</td>\n      <td>81.5</td>\n      <td>SMALL</td>\n    </tr>\n    <tr>\n      <th>1</th>\n      <td>170.2</td>\n      <td>72.6</td>\n      <td>SMALL</td>\n    </tr>\n    <tr>\n      <th>2</th>\n      <td>173.5</td>\n      <td>92.9</td>\n      <td>SMALL</td>\n    </tr>\n    <tr>\n      <th>3</th>\n      <td>165.5</td>\n      <td>79.4</td>\n      <td>XSMALL</td>\n    </tr>\n    <tr>\n      <th>4</th>\n      <td>191.4</td>\n      <td>94.6</td>\n      <td>XXLARGE</td>\n    </tr>\n  </tbody>\n</table>\n</div>"
     },
     "execution_count": 185,
     "metadata": {},
     "output_type": "execute_result"
    }
   ],
   "source": [
    "weight_height_male_df.head()"
   ],
   "metadata": {
    "collapsed": false,
    "pycharm": {
     "name": "#%%\n"
    }
   }
  },
  {
   "cell_type": "code",
   "execution_count": 175,
   "outputs": [],
   "source": [],
   "metadata": {
    "collapsed": false,
    "pycharm": {
     "name": "#%%\n"
    }
   }
  },
  {
   "cell_type": "code",
   "execution_count": 180,
   "outputs": [],
   "source": [],
   "metadata": {
    "collapsed": false,
    "pycharm": {
     "name": "#%%\n"
    }
   }
  },
  {
   "cell_type": "code",
   "execution_count": 179,
   "outputs": [],
   "source": [],
   "metadata": {
    "collapsed": false,
    "pycharm": {
     "name": "#%%\n"
    }
   }
  },
  {
   "cell_type": "code",
   "execution_count": null,
   "outputs": [],
   "source": [],
   "metadata": {
    "collapsed": false,
    "pycharm": {
     "name": "#%%\n"
    }
   }
  }
 ],
 "metadata": {
  "kernelspec": {
   "display_name": "Python 3",
   "language": "python",
   "name": "python3"
  },
  "language_info": {
   "codemirror_mode": {
    "name": "ipython",
    "version": 2
   },
   "file_extension": ".py",
   "mimetype": "text/x-python",
   "name": "python",
   "nbconvert_exporter": "python",
   "pygments_lexer": "ipython2",
   "version": "2.7.6"
  }
 },
 "nbformat": 4,
 "nbformat_minor": 0
}