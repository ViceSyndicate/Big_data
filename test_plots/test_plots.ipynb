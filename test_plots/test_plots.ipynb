{
 "cells": [
  {
   "cell_type": "code",
   "execution_count": 13,
   "metadata": {
    "collapsed": true
   },
   "outputs": [],
   "source": [
    "import pandas as pd\n",
    "import matplotlib.pyplot as plt\n",
    "import numpy as np"
   ]
  },
  {
   "cell_type": "code",
   "execution_count": 4,
   "outputs": [],
   "source": [
    "male_df = pd.read_csv('C:/School/Big Data/Big_Data/male.csv')"
   ],
   "metadata": {
    "collapsed": false,
    "pycharm": {
     "name": "#%%\n"
    }
   }
  },
  {
   "cell_type": "code",
   "execution_count": 11,
   "outputs": [
    {
     "data": {
      "text/plain": "   stature  weightkg  chestbreadth  waistbreadth  hipbreadth  \\\n0     1776       815           291           329         332   \n1     1702       726           269           316         312   \n2     1735       929           288           329         349   \n3     1655       794           296           315         338   \n4     1914       946           304           303         332   \n\n   waistcircumference Ethnicity  \n0                 933       NaN  \n1                 870       NaN  \n2                 964       NaN  \n3                 857       NaN  \n4                 868       NaN  ",
      "text/html": "<div>\n<style scoped>\n    .dataframe tbody tr th:only-of-type {\n        vertical-align: middle;\n    }\n\n    .dataframe tbody tr th {\n        vertical-align: top;\n    }\n\n    .dataframe thead th {\n        text-align: right;\n    }\n</style>\n<table border=\"1\" class=\"dataframe\">\n  <thead>\n    <tr style=\"text-align: right;\">\n      <th></th>\n      <th>stature</th>\n      <th>weightkg</th>\n      <th>chestbreadth</th>\n      <th>waistbreadth</th>\n      <th>hipbreadth</th>\n      <th>waistcircumference</th>\n      <th>Ethnicity</th>\n    </tr>\n  </thead>\n  <tbody>\n    <tr>\n      <th>0</th>\n      <td>1776</td>\n      <td>815</td>\n      <td>291</td>\n      <td>329</td>\n      <td>332</td>\n      <td>933</td>\n      <td>NaN</td>\n    </tr>\n    <tr>\n      <th>1</th>\n      <td>1702</td>\n      <td>726</td>\n      <td>269</td>\n      <td>316</td>\n      <td>312</td>\n      <td>870</td>\n      <td>NaN</td>\n    </tr>\n    <tr>\n      <th>2</th>\n      <td>1735</td>\n      <td>929</td>\n      <td>288</td>\n      <td>329</td>\n      <td>349</td>\n      <td>964</td>\n      <td>NaN</td>\n    </tr>\n    <tr>\n      <th>3</th>\n      <td>1655</td>\n      <td>794</td>\n      <td>296</td>\n      <td>315</td>\n      <td>338</td>\n      <td>857</td>\n      <td>NaN</td>\n    </tr>\n    <tr>\n      <th>4</th>\n      <td>1914</td>\n      <td>946</td>\n      <td>304</td>\n      <td>303</td>\n      <td>332</td>\n      <td>868</td>\n      <td>NaN</td>\n    </tr>\n  </tbody>\n</table>\n</div>"
     },
     "execution_count": 11,
     "metadata": {},
     "output_type": "execute_result"
    }
   ],
   "source": [
    "trimmed_male_data = male_df[['stature', 'weightkg', 'chestbreadth', 'waistbreadth', 'hipbreadth', 'waistcircumference', 'Ethnicity']]\n",
    "#male_df.head()\n",
    "test_df = trimmed_male_data.head()\n",
    "test_df.head()"
   ],
   "metadata": {
    "collapsed": false,
    "pycharm": {
     "name": "#%%\n"
    }
   }
  },
  {
   "cell_type": "code",
   "execution_count": 5,
   "outputs": [],
   "source": [
    "all_height = test_df['stature']\n",
    "all_weight = test_df['weightkg']"
   ],
   "metadata": {
    "collapsed": false,
    "pycharm": {
     "name": "#%%\n"
    }
   }
  },
  {
   "cell_type": "code",
   "execution_count": null,
   "outputs": [],
   "source": [],
   "metadata": {
    "collapsed": false,
    "pycharm": {
     "name": "#%%\n"
    }
   }
  }
 ],
 "metadata": {
  "kernelspec": {
   "display_name": "Python 3",
   "language": "python",
   "name": "python3"
  },
  "language_info": {
   "codemirror_mode": {
    "name": "ipython",
    "version": 2
   },
   "file_extension": ".py",
   "mimetype": "text/x-python",
   "name": "python",
   "nbconvert_exporter": "python",
   "pygments_lexer": "ipython2",
   "version": "2.7.6"
  }
 },
 "nbformat": 4,
 "nbformat_minor": 0
}