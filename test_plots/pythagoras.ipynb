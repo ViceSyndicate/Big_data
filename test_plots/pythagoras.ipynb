{
 "cells": [
  {
   "cell_type": "code",
   "execution_count": 22,
   "metadata": {
    "collapsed": true
   },
   "outputs": [],
   "source": [
    "import pandas as pd\n",
    "import matplotlib.pyplot as plt\n",
    "import numpy as np\n",
    "import seaborn as sns\n",
    "import math"
   ]
  },
  {
   "cell_type": "code",
   "execution_count": 23,
   "outputs": [],
   "source": [
    "weight_height_male_df = pd.read_csv('C:\\School\\BigData\\Big_Data\\male.csv', usecols=['stature', 'weightkg'])\n",
    "weight_height_male_df.rename(columns={'weightkg':'Kg', 'stature':'Cm'}, inplace=True)\n",
    "weight_height_male_df['Kg'] = weight_height_male_df['Kg'].multiply(0.1)\n",
    "weight_height_male_df['Cm'] = weight_height_male_df['Cm'].multiply(0.1)"
   ],
   "metadata": {
    "collapsed": false,
    "pycharm": {
     "name": "#%%\n"
    }
   }
  },
  {
   "cell_type": "code",
   "execution_count": 24,
   "outputs": [],
   "source": [
    "class Size:\n",
    "    xs = \"XSMALL\"\n",
    "    s = \"SMALL\"\n",
    "    m = \"MEDIUM\"\n",
    "    l = \"LARGE\"\n",
    "    xl = \"XLARGE\"\n",
    "    xxl = \"XXLARGE\"\n",
    "    xxxl = \"XXXLARGE\"\n",
    "\n",
    "\n",
    "class Person:\n",
    "    def __init__(self, weight, height, *args):\n",
    "        self.weight = weight\n",
    "        self.height = height\n",
    "\n",
    "        #self.chestbreadth = args.chestbreadth\n",
    "        #self.waistbreadth = args.waistbreadth\n",
    "        #self.hipbreadth = args.hipbreadth\n",
    "\n",
    "        self.size = Size.xs if (height <= 169) & (weight <= 55) else Size.s if (height <= 178) & (weight <= 65) else Size.m if (height <= 182) & (weight <= 75) else Size.l if (height <= 186) & (weight <= 85) else Size.xl if (height <= 190) & (weight <= 90) else Size.xxl if (height <= 194) & (weight <= 95) else Size.xxxl\n"
   ],
   "metadata": {
    "collapsed": false,
    "pycharm": {
     "name": "#%%\n"
    }
   }
  },
  {
   "cell_type": "code",
   "execution_count": 25,
   "outputs": [],
   "source": [
    "people = []\n",
    "weight_height_male_df['Size'] = ''\n",
    "for row in weight_height_male_df.itertuples():\n",
    "    height = row[1]\n",
    "    weight = row[2]\n",
    "    person = Person(weight, height)\n",
    "    people.append(person)\n",
    "\n",
    "everyones_size = []\n",
    "for person in people:\n",
    "    everyones_size.append(person.size)\n",
    "\n",
    "weight_height_male_df['Size'] = everyones_size"
   ],
   "metadata": {
    "collapsed": false,
    "pycharm": {
     "name": "#%%\n"
    }
   }
  },
  {
   "cell_type": "code",
   "execution_count": 26,
   "outputs": [],
   "source": [
    "my_weight = 60\n",
    "my_length = 176\n",
    "\n",
    "deltas = []\n",
    "for person in people:\n",
    "    height_diff = 0.0\n",
    "    weight_diff = 0.0\n",
    "\n",
    "# if checks to make sure we always get positive values\n",
    "    if person.height > my_length:\n",
    "        height_diff = person.height - my_length\n",
    "    else: height_diff = my_length - person.height\n",
    "\n",
    "    if person.weight > my_weight:\n",
    "        weight_diff = person.weight - my_length\n",
    "    else: weight_diff = my_weight - person.weight\n",
    "\n",
    "    height_diff = height_diff * height_diff\n",
    "    weight_diff = weight_diff * weight_diff\n",
    "\n",
    "    delta = height_diff + weight_diff\n",
    "    delta = math.sqrt(delta)\n",
    "    deltas.append(delta)\n",
    "\n",
    "weight_height_male_df['deltapoint'] = deltas\n",
    "weight_height_male_df = weight_height_male_df.sort_values(by='deltapoint')"
   ],
   "metadata": {
    "collapsed": false,
    "pycharm": {
     "name": "#%%\n"
    }
   }
  },
  {
   "cell_type": "code",
   "execution_count": 27,
   "outputs": [
    {
     "data": {
      "text/plain": "         Cm    Kg    Size  deltapoint\n3773  177.0  59.1   SMALL    1.345362\n3183  177.4  59.6   SMALL    1.456022\n4068  174.6  58.8   SMALL    1.843909\n2490  174.3  59.0   SMALL    1.972308\n88    174.0  59.0   SMALL    2.236068\n1103  173.8  59.1   SMALL    2.376973\n3875  175.0  57.8   SMALL    2.416609\n2228  173.6  59.5   SMALL    2.451530\n2965  173.9  58.7   SMALL    2.469818\n2377  178.4  59.1  MEDIUM    2.563201\n1940  173.4  58.7   SMALL    2.906888\n40    174.4  57.5   SMALL    2.968164\n1092  173.5  57.9   SMALL    3.264966\n1071  172.8  59.3   SMALL    3.275668\n1818  178.7  57.2  MEDIUM    3.889730\n716   171.9  59.6   SMALL    4.119466\n2440  180.7  59.6  MEDIUM    4.716991\n1755  171.0  59.9   SMALL    5.001000\n3733  171.7  57.4   SMALL    5.024938\n3615  170.7  58.7   SMALL    5.457105",
      "text/html": "<div>\n<style scoped>\n    .dataframe tbody tr th:only-of-type {\n        vertical-align: middle;\n    }\n\n    .dataframe tbody tr th {\n        vertical-align: top;\n    }\n\n    .dataframe thead th {\n        text-align: right;\n    }\n</style>\n<table border=\"1\" class=\"dataframe\">\n  <thead>\n    <tr style=\"text-align: right;\">\n      <th></th>\n      <th>Cm</th>\n      <th>Kg</th>\n      <th>Size</th>\n      <th>deltapoint</th>\n    </tr>\n  </thead>\n  <tbody>\n    <tr>\n      <th>3773</th>\n      <td>177.0</td>\n      <td>59.1</td>\n      <td>SMALL</td>\n      <td>1.345362</td>\n    </tr>\n    <tr>\n      <th>3183</th>\n      <td>177.4</td>\n      <td>59.6</td>\n      <td>SMALL</td>\n      <td>1.456022</td>\n    </tr>\n    <tr>\n      <th>4068</th>\n      <td>174.6</td>\n      <td>58.8</td>\n      <td>SMALL</td>\n      <td>1.843909</td>\n    </tr>\n    <tr>\n      <th>2490</th>\n      <td>174.3</td>\n      <td>59.0</td>\n      <td>SMALL</td>\n      <td>1.972308</td>\n    </tr>\n    <tr>\n      <th>88</th>\n      <td>174.0</td>\n      <td>59.0</td>\n      <td>SMALL</td>\n      <td>2.236068</td>\n    </tr>\n    <tr>\n      <th>1103</th>\n      <td>173.8</td>\n      <td>59.1</td>\n      <td>SMALL</td>\n      <td>2.376973</td>\n    </tr>\n    <tr>\n      <th>3875</th>\n      <td>175.0</td>\n      <td>57.8</td>\n      <td>SMALL</td>\n      <td>2.416609</td>\n    </tr>\n    <tr>\n      <th>2228</th>\n      <td>173.6</td>\n      <td>59.5</td>\n      <td>SMALL</td>\n      <td>2.451530</td>\n    </tr>\n    <tr>\n      <th>2965</th>\n      <td>173.9</td>\n      <td>58.7</td>\n      <td>SMALL</td>\n      <td>2.469818</td>\n    </tr>\n    <tr>\n      <th>2377</th>\n      <td>178.4</td>\n      <td>59.1</td>\n      <td>MEDIUM</td>\n      <td>2.563201</td>\n    </tr>\n    <tr>\n      <th>1940</th>\n      <td>173.4</td>\n      <td>58.7</td>\n      <td>SMALL</td>\n      <td>2.906888</td>\n    </tr>\n    <tr>\n      <th>40</th>\n      <td>174.4</td>\n      <td>57.5</td>\n      <td>SMALL</td>\n      <td>2.968164</td>\n    </tr>\n    <tr>\n      <th>1092</th>\n      <td>173.5</td>\n      <td>57.9</td>\n      <td>SMALL</td>\n      <td>3.264966</td>\n    </tr>\n    <tr>\n      <th>1071</th>\n      <td>172.8</td>\n      <td>59.3</td>\n      <td>SMALL</td>\n      <td>3.275668</td>\n    </tr>\n    <tr>\n      <th>1818</th>\n      <td>178.7</td>\n      <td>57.2</td>\n      <td>MEDIUM</td>\n      <td>3.889730</td>\n    </tr>\n    <tr>\n      <th>716</th>\n      <td>171.9</td>\n      <td>59.6</td>\n      <td>SMALL</td>\n      <td>4.119466</td>\n    </tr>\n    <tr>\n      <th>2440</th>\n      <td>180.7</td>\n      <td>59.6</td>\n      <td>MEDIUM</td>\n      <td>4.716991</td>\n    </tr>\n    <tr>\n      <th>1755</th>\n      <td>171.0</td>\n      <td>59.9</td>\n      <td>SMALL</td>\n      <td>5.001000</td>\n    </tr>\n    <tr>\n      <th>3733</th>\n      <td>171.7</td>\n      <td>57.4</td>\n      <td>SMALL</td>\n      <td>5.024938</td>\n    </tr>\n    <tr>\n      <th>3615</th>\n      <td>170.7</td>\n      <td>58.7</td>\n      <td>SMALL</td>\n      <td>5.457105</td>\n    </tr>\n  </tbody>\n</table>\n</div>"
     },
     "execution_count": 27,
     "metadata": {},
     "output_type": "execute_result"
    }
   ],
   "source": [
    "weight_height_male_df = weight_height_male_df.sort_values(by='deltapoint')\n",
    "weight_height_male_df.head(20)"
   ],
   "metadata": {
    "collapsed": false,
    "pycharm": {
     "name": "#%%\n"
    }
   }
  },
  {
   "cell_type": "code",
   "execution_count": null,
   "outputs": [],
   "source": [],
   "metadata": {
    "collapsed": false,
    "pycharm": {
     "name": "#%%\n"
    }
   }
  }
 ],
 "metadata": {
  "kernelspec": {
   "display_name": "Python 3",
   "language": "python",
   "name": "python3"
  },
  "language_info": {
   "codemirror_mode": {
    "name": "ipython",
    "version": 2
   },
   "file_extension": ".py",
   "mimetype": "text/x-python",
   "name": "python",
   "nbconvert_exporter": "python",
   "pygments_lexer": "ipython2",
   "version": "2.7.6"
  }
 },
 "nbformat": 4,
 "nbformat_minor": 0
}