{
 "cells": [
  {
   "cell_type": "code",
   "execution_count": 5,
   "metadata": {
    "collapsed": true
   },
   "outputs": [],
   "source": [
    "import pandas as pd\n",
    "import matplotlib.pyplot as plt\n",
    "import numpy as np\n",
    "import models.data as models"
   ]
  },
  {
   "cell_type": "code",
   "execution_count": 2,
   "outputs": [],
   "source": [],
   "metadata": {
    "collapsed": false,
    "pycharm": {
     "name": "#%%\n"
    }
   }
  },
  {
   "cell_type": "code",
   "execution_count": 19,
   "outputs": [
    {
     "name": "stderr",
     "output_type": "stream",
     "text": [
      "C:\\Users\\Vice\\AppData\\Local\\Temp\\ipykernel_14648\\674438039.py:3: SettingWithCopyWarning: \n",
      "A value is trying to be set on a copy of a slice from a DataFrame.\n",
      "Try using .loc[row_indexer,col_indexer] = value instead\n",
      "\n",
      "See the caveats in the documentation: https://pandas.pydata.org/pandas-docs/stable/user_guide/indexing.html#returning-a-view-versus-a-copy\n",
      "  df['buttockcircumference'] = df['buttockcircumference'].multiply(0.1)\n",
      "C:\\Users\\Vice\\AppData\\Local\\Temp\\ipykernel_14648\\674438039.py:4: SettingWithCopyWarning: \n",
      "A value is trying to be set on a copy of a slice from a DataFrame.\n",
      "Try using .loc[row_indexer,col_indexer] = value instead\n",
      "\n",
      "See the caveats in the documentation: https://pandas.pydata.org/pandas-docs/stable/user_guide/indexing.html#returning-a-view-versus-a-copy\n",
      "  df['waistcircumference'] = df['waistcircumference'].multiply(0.1)\n",
      "C:\\Users\\Vice\\AppData\\Local\\Temp\\ipykernel_14648\\674438039.py:5: SettingWithCopyWarning: \n",
      "A value is trying to be set on a copy of a slice from a DataFrame\n",
      "\n",
      "See the caveats in the documentation: https://pandas.pydata.org/pandas-docs/stable/user_guide/indexing.html#returning-a-view-versus-a-copy\n",
      "  df.rename(columns={'buttockcircumference':'hipcircumference', 'waistcircumference':'waistcircumference'}, inplace=True)\n"
     ]
    },
    {
     "data": {
      "text/plain": "   hipcircumference  waistcircumference\n0             101.1                85.0\n1              89.3                70.8\n2              98.7                72.7\n3             101.2                92.3\n4             128.1               116.3",
      "text/html": "<div>\n<style scoped>\n    .dataframe tbody tr th:only-of-type {\n        vertical-align: middle;\n    }\n\n    .dataframe tbody tr th {\n        vertical-align: top;\n    }\n\n    .dataframe thead th {\n        text-align: right;\n    }\n</style>\n<table border=\"1\" class=\"dataframe\">\n  <thead>\n    <tr style=\"text-align: right;\">\n      <th></th>\n      <th>hipcircumference</th>\n      <th>waistcircumference</th>\n    </tr>\n  </thead>\n  <tbody>\n    <tr>\n      <th>0</th>\n      <td>101.1</td>\n      <td>85.0</td>\n    </tr>\n    <tr>\n      <th>1</th>\n      <td>89.3</td>\n      <td>70.8</td>\n    </tr>\n    <tr>\n      <th>2</th>\n      <td>98.7</td>\n      <td>72.7</td>\n    </tr>\n    <tr>\n      <th>3</th>\n      <td>101.2</td>\n      <td>92.3</td>\n    </tr>\n    <tr>\n      <th>4</th>\n      <td>128.1</td>\n      <td>116.3</td>\n    </tr>\n  </tbody>\n</table>\n</div>"
     },
     "execution_count": 19,
     "metadata": {},
     "output_type": "execute_result"
    }
   ],
   "source": [
    "female_df = pd.read_csv(\"C:/School/BigData/Big_Data/female.csv\")\n",
    "df = female_df[['buttockcircumference', 'waistcircumference']]\n",
    "df['buttockcircumference'] = df['buttockcircumference'].multiply(0.1)\n",
    "df['waistcircumference'] = df['waistcircumference'].multiply(0.1)\n",
    "df.rename(columns={'buttockcircumference':'hipcircumference', 'waistcircumference':'waistcircumference'}, inplace=True)\n",
    "df.head()"
   ],
   "metadata": {
    "collapsed": false,
    "pycharm": {
     "name": "#%%\n"
    }
   }
  },
  {
   "cell_type": "code",
   "execution_count": 20,
   "outputs": [
    {
     "name": "stderr",
     "output_type": "stream",
     "text": [
      "C:\\Users\\Vice\\AppData\\Local\\Temp\\ipykernel_14648\\4050883112.py:12: SettingWithCopyWarning: \n",
      "A value is trying to be set on a copy of a slice from a DataFrame.\n",
      "Try using .loc[row_indexer,col_indexer] = value instead\n",
      "\n",
      "See the caveats in the documentation: https://pandas.pydata.org/pandas-docs/stable/user_guide/indexing.html#returning-a-view-versus-a-copy\n",
      "  df['Size'] = everyones_size\n"
     ]
    },
    {
     "data": {
      "text/plain": "      hipcircumference  waistcircumference      Size\n1886              97.0                71.5    MEDIUM\n1887              92.5                78.3    MEDIUM\n1888              94.7                82.7     LARGE\n1889              96.5                86.0     LARGE\n1890              91.5                72.7    MEDIUM\n...                ...                 ...       ...\n1981             108.9               104.3  XXXLARGE\n1982             101.6                97.1   XXLARGE\n1983             106.3                98.2   XXLARGE\n1984             105.1                83.7     LARGE\n1985              97.4                89.1    XLARGE\n\n[100 rows x 3 columns]",
      "text/html": "<div>\n<style scoped>\n    .dataframe tbody tr th:only-of-type {\n        vertical-align: middle;\n    }\n\n    .dataframe tbody tr th {\n        vertical-align: top;\n    }\n\n    .dataframe thead th {\n        text-align: right;\n    }\n</style>\n<table border=\"1\" class=\"dataframe\">\n  <thead>\n    <tr style=\"text-align: right;\">\n      <th></th>\n      <th>hipcircumference</th>\n      <th>waistcircumference</th>\n      <th>Size</th>\n    </tr>\n  </thead>\n  <tbody>\n    <tr>\n      <th>1886</th>\n      <td>97.0</td>\n      <td>71.5</td>\n      <td>MEDIUM</td>\n    </tr>\n    <tr>\n      <th>1887</th>\n      <td>92.5</td>\n      <td>78.3</td>\n      <td>MEDIUM</td>\n    </tr>\n    <tr>\n      <th>1888</th>\n      <td>94.7</td>\n      <td>82.7</td>\n      <td>LARGE</td>\n    </tr>\n    <tr>\n      <th>1889</th>\n      <td>96.5</td>\n      <td>86.0</td>\n      <td>LARGE</td>\n    </tr>\n    <tr>\n      <th>1890</th>\n      <td>91.5</td>\n      <td>72.7</td>\n      <td>MEDIUM</td>\n    </tr>\n    <tr>\n      <th>...</th>\n      <td>...</td>\n      <td>...</td>\n      <td>...</td>\n    </tr>\n    <tr>\n      <th>1981</th>\n      <td>108.9</td>\n      <td>104.3</td>\n      <td>XXXLARGE</td>\n    </tr>\n    <tr>\n      <th>1982</th>\n      <td>101.6</td>\n      <td>97.1</td>\n      <td>XXLARGE</td>\n    </tr>\n    <tr>\n      <th>1983</th>\n      <td>106.3</td>\n      <td>98.2</td>\n      <td>XXLARGE</td>\n    </tr>\n    <tr>\n      <th>1984</th>\n      <td>105.1</td>\n      <td>83.7</td>\n      <td>LARGE</td>\n    </tr>\n    <tr>\n      <th>1985</th>\n      <td>97.4</td>\n      <td>89.1</td>\n      <td>XLARGE</td>\n    </tr>\n  </tbody>\n</table>\n<p>100 rows × 3 columns</p>\n</div>"
     },
     "execution_count": 20,
     "metadata": {},
     "output_type": "execute_result"
    }
   ],
   "source": [
    "people = []\n",
    "for row in df.itertuples():\n",
    "    hipcircumference = row[1]\n",
    "    waistcircumference = row[2]\n",
    "    person = models.Female_Pants(hipcircumference, waistcircumference)\n",
    "    people.append(person)\n",
    "\n",
    "everyones_size = []\n",
    "for person in people:\n",
    "    everyones_size.append(person.size)\n",
    "\n",
    "df['Size'] = everyones_size\n",
    "df.tail(100)"
   ],
   "metadata": {
    "collapsed": false,
    "pycharm": {
     "name": "#%%\n"
    }
   }
  },
  {
   "cell_type": "code",
   "execution_count": 40,
   "outputs": [
    {
     "data": {
      "text/plain": "      hipcircumference  waistcircumference      Size  deltapoint\n668               94.3                80.7     LARGE        0.25\n450              101.7                84.7     LARGE        0.41\n442              107.5                94.6   XXLARGE        0.49\n1751             101.5                84.4     LARGE        0.50\n1286             100.7                85.1     LARGE        0.61\n1488              91.2                78.7     LARGE        0.65\n777              102.7                88.9    XLARGE        0.65\n1122             100.3                71.5    MEDIUM        0.81\n333              103.6                87.1    XLARGE        0.85\n1540             104.5                86.0     LARGE        1.01\n389               99.1                80.4     LARGE        1.16\n1427             113.5                95.8   XXLARGE        1.30\n1241             103.5                83.7     LARGE        1.44\n1555             103.7                87.3    XLARGE        1.53\n1124              94.9                75.8    MEDIUM        1.69\n1979              99.1                74.2    MEDIUM        1.70\n1606             102.3                81.4     LARGE        1.73\n1926             120.8               102.5  XXXLARGE        1.78\n1371             108.6                94.2   XXLARGE        1.85\n223               95.7                78.3    MEDIUM        1.94",
      "text/html": "<div>\n<style scoped>\n    .dataframe tbody tr th:only-of-type {\n        vertical-align: middle;\n    }\n\n    .dataframe tbody tr th {\n        vertical-align: top;\n    }\n\n    .dataframe thead th {\n        text-align: right;\n    }\n</style>\n<table border=\"1\" class=\"dataframe\">\n  <thead>\n    <tr style=\"text-align: right;\">\n      <th></th>\n      <th>hipcircumference</th>\n      <th>waistcircumference</th>\n      <th>Size</th>\n      <th>deltapoint</th>\n    </tr>\n  </thead>\n  <tbody>\n    <tr>\n      <th>668</th>\n      <td>94.3</td>\n      <td>80.7</td>\n      <td>LARGE</td>\n      <td>0.25</td>\n    </tr>\n    <tr>\n      <th>450</th>\n      <td>101.7</td>\n      <td>84.7</td>\n      <td>LARGE</td>\n      <td>0.41</td>\n    </tr>\n    <tr>\n      <th>442</th>\n      <td>107.5</td>\n      <td>94.6</td>\n      <td>XXLARGE</td>\n      <td>0.49</td>\n    </tr>\n    <tr>\n      <th>1751</th>\n      <td>101.5</td>\n      <td>84.4</td>\n      <td>LARGE</td>\n      <td>0.50</td>\n    </tr>\n    <tr>\n      <th>1286</th>\n      <td>100.7</td>\n      <td>85.1</td>\n      <td>LARGE</td>\n      <td>0.61</td>\n    </tr>\n    <tr>\n      <th>1488</th>\n      <td>91.2</td>\n      <td>78.7</td>\n      <td>LARGE</td>\n      <td>0.65</td>\n    </tr>\n    <tr>\n      <th>777</th>\n      <td>102.7</td>\n      <td>88.9</td>\n      <td>XLARGE</td>\n      <td>0.65</td>\n    </tr>\n    <tr>\n      <th>1122</th>\n      <td>100.3</td>\n      <td>71.5</td>\n      <td>MEDIUM</td>\n      <td>0.81</td>\n    </tr>\n    <tr>\n      <th>333</th>\n      <td>103.6</td>\n      <td>87.1</td>\n      <td>XLARGE</td>\n      <td>0.85</td>\n    </tr>\n    <tr>\n      <th>1540</th>\n      <td>104.5</td>\n      <td>86.0</td>\n      <td>LARGE</td>\n      <td>1.01</td>\n    </tr>\n    <tr>\n      <th>389</th>\n      <td>99.1</td>\n      <td>80.4</td>\n      <td>LARGE</td>\n      <td>1.16</td>\n    </tr>\n    <tr>\n      <th>1427</th>\n      <td>113.5</td>\n      <td>95.8</td>\n      <td>XXLARGE</td>\n      <td>1.30</td>\n    </tr>\n    <tr>\n      <th>1241</th>\n      <td>103.5</td>\n      <td>83.7</td>\n      <td>LARGE</td>\n      <td>1.44</td>\n    </tr>\n    <tr>\n      <th>1555</th>\n      <td>103.7</td>\n      <td>87.3</td>\n      <td>XLARGE</td>\n      <td>1.53</td>\n    </tr>\n    <tr>\n      <th>1124</th>\n      <td>94.9</td>\n      <td>75.8</td>\n      <td>MEDIUM</td>\n      <td>1.69</td>\n    </tr>\n    <tr>\n      <th>1979</th>\n      <td>99.1</td>\n      <td>74.2</td>\n      <td>MEDIUM</td>\n      <td>1.70</td>\n    </tr>\n    <tr>\n      <th>1606</th>\n      <td>102.3</td>\n      <td>81.4</td>\n      <td>LARGE</td>\n      <td>1.73</td>\n    </tr>\n    <tr>\n      <th>1926</th>\n      <td>120.8</td>\n      <td>102.5</td>\n      <td>XXXLARGE</td>\n      <td>1.78</td>\n    </tr>\n    <tr>\n      <th>1371</th>\n      <td>108.6</td>\n      <td>94.2</td>\n      <td>XXLARGE</td>\n      <td>1.85</td>\n    </tr>\n    <tr>\n      <th>223</th>\n      <td>95.7</td>\n      <td>78.3</td>\n      <td>MEDIUM</td>\n      <td>1.94</td>\n    </tr>\n  </tbody>\n</table>\n</div>"
     },
     "execution_count": 40,
     "metadata": {},
     "output_type": "execute_result"
    }
   ],
   "source": [
    "user_waist = 85\n",
    "user_hip = 95.5\n",
    "\n",
    "deltas = []\n",
    "for person in people:\n",
    "    waist_diff = 0.0\n",
    "    hip_diff = 0.0\n",
    "\n",
    "# if checks to make sure we always get positive values\n",
    "    if person.waistbreadth > user_waist:\n",
    "        waist_diff = person.waistbreadth - user_waist\n",
    "    else: waist_diff = user_waist - person.waistbreadth\n",
    "\n",
    "    if person.hipwidth > user_hip:\n",
    "        hip_diff = person.hipwidth - user_hip\n",
    "    else: hip_diff = user_hip - person.hipwidth\n",
    "\n",
    "    waist_diff = waist_diff * waist_diff\n",
    "    hip_diff = hip_diff * hip_diff\n",
    "\n",
    "    delta = waist_diff + hip_diff\n",
    "    #delta = math.sqrt(delta)\n",
    "    deltas.append(delta)\n",
    "\n",
    "df['deltapoint'] = deltas\n",
    "df = df.sort_values(by='deltapoint')\n",
    "df.head(20)"
   ],
   "metadata": {
    "collapsed": false,
    "pycharm": {
     "name": "#%%\n"
    }
   }
  },
  {
   "cell_type": "code",
   "execution_count": 39,
   "outputs": [
    {
     "data": {
      "text/plain": "<Figure size 432x288 with 1 Axes>",
      "image/png": "[encoded data removed]"
     },
     "metadata": {
      "needs_background": "light"
     },
     "output_type": "display_data"
    }
   ],
   "source": [
    "hipcircumferences = []\n",
    "waistcircumferences = []\n",
    "\n",
    "for row in df.itertuples():\n",
    "    hipcircumference = row[1]\n",
    "    waistcircumference = row[2]\n",
    "    hipcircumferences.append(hipcircumference)\n",
    "    waistcircumferences.append(waistcircumference)\n",
    "\n",
    "plt.plot(hipcircumferences, waistcircumferences, 'mo')\n",
    "plt.show(4)"
   ],
   "metadata": {
    "collapsed": false,
    "pycharm": {
     "name": "#%%\n"
    }
   }
  },
  {
   "cell_type": "code",
   "execution_count": 42,
   "outputs": [
    {
     "name": "stdout",
     "output_type": "stream",
     "text": [
      "Reccomended Size: LARGE\n"
     ]
    }
   ],
   "source": [
    "k = 10\n",
    "neighbors = df.head(k)\n",
    "neighbour_list = []\n",
    "\n",
    "for row in neighbors.itertuples():\n",
    "    neighbour = []\n",
    "    size = row[3]\n",
    "    distance = row[4]\n",
    "    neighbour.append(size)\n",
    "    neighbour.append(distance)\n",
    "    neighbour_list.append(neighbour)\n",
    "\n",
    "list_of_sizes = []\n",
    "for size in neighbour_list:\n",
    "    list_of_sizes.append(size[0])\n",
    "\n",
    "most_common_size = max(set(list_of_sizes), key=list_of_sizes.count)\n",
    "print('Recommended  Size: ' + most_common_size)"
   ],
   "metadata": {
    "collapsed": false,
    "pycharm": {
     "name": "#%%\n"
    }
   }
  },
  {
   "cell_type": "code",
   "execution_count": null,
   "outputs": [],
   "source": [],
   "metadata": {
    "collapsed": false,
    "pycharm": {
     "name": "#%%\n"
    }
   }
  }
 ],
 "metadata": {
  "kernelspec": {
   "display_name": "Python 3",
   "language": "python",
   "name": "python3"
  },
  "language_info": {
   "codemirror_mode": {
    "name": "ipython",
    "version": 2
   },
   "file_extension": ".py",
   "mimetype": "text/x-python",
   "name": "python",
   "nbconvert_exporter": "python",
   "pygments_lexer": "ipython2",
   "version": "2.7.6"
  }
 },
 "nbformat": 4,
 "nbformat_minor": 0
}