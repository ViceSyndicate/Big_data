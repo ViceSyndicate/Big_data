{
 "cells": [
  {
   "cell_type": "code",
   "execution_count": 1,
   "metadata": {
    "collapsed": true
   },
   "outputs": [],
   "source": [
    "import pandas as pd\n",
    "import matplotlib.pyplot as plt\n",
    "import numpy as np"
   ]
  },
  {
   "cell_type": "code",
   "execution_count": null,
   "outputs": [],
   "source": [],
   "metadata": {
    "collapsed": false,
    "pycharm": {
     "name": "#%%\n"
    }
   }
  },
  {
   "cell_type": "code",
   "execution_count": 9,
   "outputs": [
    {
     "name": "stderr",
     "output_type": "stream",
     "text": [
      "C:\\Users\\Vice\\AppData\\Local\\Temp\\ipykernel_24524\\1061976306.py:6: SettingWithCopyWarning: \n",
      "A value is trying to be set on a copy of a slice from a DataFrame.\n",
      "Try using .loc[row_indexer,col_indexer] = value instead\n",
      "\n",
      "See the caveats in the documentation: https://pandas.pydata.org/pandas-docs/stable/user_guide/indexing.html#returning-a-view-versus-a-copy\n",
      "  df['waistbreadth'] = df['waistbreadth'].multiply(0.1)\n",
      "C:\\Users\\Vice\\AppData\\Local\\Temp\\ipykernel_24524\\1061976306.py:7: SettingWithCopyWarning: \n",
      "A value is trying to be set on a copy of a slice from a DataFrame.\n",
      "Try using .loc[row_indexer,col_indexer] = value instead\n",
      "\n",
      "See the caveats in the documentation: https://pandas.pydata.org/pandas-docs/stable/user_guide/indexing.html#returning-a-view-versus-a-copy\n",
      "  df['crotchheight'] = df['crotchheight'].multiply(0.1)\n"
     ]
    },
    {
     "data": {
      "text/plain": "   waistbreadth  crotchheight\n0          29.5          75.9\n1          25.4          83.5\n2          26.9          82.1\n3          30.2          80.4\n4          40.5          72.6",
      "text/html": "<div>\n<style scoped>\n    .dataframe tbody tr th:only-of-type {\n        vertical-align: middle;\n    }\n\n    .dataframe tbody tr th {\n        vertical-align: top;\n    }\n\n    .dataframe thead th {\n        text-align: right;\n    }\n</style>\n<table border=\"1\" class=\"dataframe\">\n  <thead>\n    <tr style=\"text-align: right;\">\n      <th></th>\n      <th>waistbreadth</th>\n      <th>crotchheight</th>\n    </tr>\n  </thead>\n  <tbody>\n    <tr>\n      <th>0</th>\n      <td>29.5</td>\n      <td>75.9</td>\n    </tr>\n    <tr>\n      <th>1</th>\n      <td>25.4</td>\n      <td>83.5</td>\n    </tr>\n    <tr>\n      <th>2</th>\n      <td>26.9</td>\n      <td>82.1</td>\n    </tr>\n    <tr>\n      <th>3</th>\n      <td>30.2</td>\n      <td>80.4</td>\n    </tr>\n    <tr>\n      <th>4</th>\n      <td>40.5</td>\n      <td>72.6</td>\n    </tr>\n  </tbody>\n</table>\n</div>"
     },
     "execution_count": 9,
     "metadata": {},
     "output_type": "execute_result"
    }
   ],
   "source": [
    "female_df = pd.read_csv(\"C:/School/BigData/Big_Data/female.csv\")\n",
    "df = female_df[['waistbreadth', 'crotchheight']]\n",
    "\n",
    "#df.rename(columns={'waistbreadth':'Kg', 'stature':'Cm'}, inplace=True)\n",
    "\n",
    "df['waistbreadth'] = df['waistbreadth'].multiply(0.1)\n",
    "df['crotchheight'] = df['crotchheight'].multiply(0.1)\n",
    "#weight_height_male_df.rename(columns={'weightkg':'Kg', 'stature':'Cm'}, inplace=True)\n",
    "df.head()"
   ],
   "metadata": {
    "collapsed": false,
    "pycharm": {
     "name": "#%%\n"
    }
   }
  },
  {
   "cell_type": "code",
   "execution_count": null,
   "outputs": [],
   "source": [],
   "metadata": {
    "collapsed": false,
    "pycharm": {
     "name": "#%%\n"
    }
   }
  }
 ],
 "metadata": {
  "kernelspec": {
   "display_name": "Python 3",
   "language": "python",
   "name": "python3"
  },
  "language_info": {
   "codemirror_mode": {
    "name": "ipython",
    "version": 2
   },
   "file_extension": ".py",
   "mimetype": "text/x-python",
   "name": "python",
   "nbconvert_exporter": "python",
   "pygments_lexer": "ipython2",
   "version": "2.7.6"
  }
 },
 "nbformat": 4,
 "nbformat_minor": 0
}