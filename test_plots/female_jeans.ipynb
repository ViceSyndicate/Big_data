{
 "cells": [
  {
   "cell_type": "code",
   "execution_count": 2,
   "metadata": {
    "collapsed": true
   },
   "outputs": [],
   "source": [
    "import pandas as pd\n",
    "import matplotlib.pyplot as plt\n",
    "import numpy as np"
   ]
  },
  {
   "cell_type": "code",
   "execution_count": 2,
   "outputs": [],
   "source": [],
   "metadata": {
    "collapsed": false,
    "pycharm": {
     "name": "#%%\n"
    }
   }
  },
  {
   "cell_type": "code",
   "execution_count": 4,
   "outputs": [
    {
     "name": "stderr",
     "output_type": "stream",
     "text": [
      "C:\\Users\\Vice\\AppData\\Local\\Temp\\ipykernel_14648\\1509882704.py:3: SettingWithCopyWarning: \n",
      "A value is trying to be set on a copy of a slice from a DataFrame.\n",
      "Try using .loc[row_indexer,col_indexer] = value instead\n",
      "\n",
      "See the caveats in the documentation: https://pandas.pydata.org/pandas-docs/stable/user_guide/indexing.html#returning-a-view-versus-a-copy\n",
      "  df['hipbreadth'] = df['hipbreadth'].multiply(0.1)\n",
      "C:\\Users\\Vice\\AppData\\Local\\Temp\\ipykernel_14648\\1509882704.py:4: SettingWithCopyWarning: \n",
      "A value is trying to be set on a copy of a slice from a DataFrame.\n",
      "Try using .loc[row_indexer,col_indexer] = value instead\n",
      "\n",
      "See the caveats in the documentation: https://pandas.pydata.org/pandas-docs/stable/user_guide/indexing.html#returning-a-view-versus-a-copy\n",
      "  df['waistbreadth'] = df['waistbreadth'].multiply(0.1)\n",
      "C:\\Users\\Vice\\AppData\\Local\\Temp\\ipykernel_14648\\1509882704.py:5: SettingWithCopyWarning: \n",
      "A value is trying to be set on a copy of a slice from a DataFrame\n",
      "\n",
      "See the caveats in the documentation: https://pandas.pydata.org/pandas-docs/stable/user_guide/indexing.html#returning-a-view-versus-a-copy\n",
      "  df.rename(columns={'hipbreadth':'hipwidth', 'waistbreadth':'waistwidth'}, inplace=True)\n"
     ]
    },
    {
     "data": {
      "text/plain": "   hipwidth  waistwidth\n0      34.5        29.5\n1      31.5        25.4\n2      35.6        26.9\n3      33.7        30.2\n4      44.8        40.5",
      "text/html": "<div>\n<style scoped>\n    .dataframe tbody tr th:only-of-type {\n        vertical-align: middle;\n    }\n\n    .dataframe tbody tr th {\n        vertical-align: top;\n    }\n\n    .dataframe thead th {\n        text-align: right;\n    }\n</style>\n<table border=\"1\" class=\"dataframe\">\n  <thead>\n    <tr style=\"text-align: right;\">\n      <th></th>\n      <th>hipwidth</th>\n      <th>waistwidth</th>\n    </tr>\n  </thead>\n  <tbody>\n    <tr>\n      <th>0</th>\n      <td>34.5</td>\n      <td>29.5</td>\n    </tr>\n    <tr>\n      <th>1</th>\n      <td>31.5</td>\n      <td>25.4</td>\n    </tr>\n    <tr>\n      <th>2</th>\n      <td>35.6</td>\n      <td>26.9</td>\n    </tr>\n    <tr>\n      <th>3</th>\n      <td>33.7</td>\n      <td>30.2</td>\n    </tr>\n    <tr>\n      <th>4</th>\n      <td>44.8</td>\n      <td>40.5</td>\n    </tr>\n  </tbody>\n</table>\n</div>"
     },
     "execution_count": 4,
     "metadata": {},
     "output_type": "execute_result"
    }
   ],
   "source": [
    "female_df = pd.read_csv(\"C:/School/BigData/Big_Data/female.csv\")\n",
    "df = female_df[['hipbreadth', 'waistbreadth']]\n",
    "df['hipbreadth'] = df['hipbreadth'].multiply(0.1)\n",
    "df['waistbreadth'] = df['waistbreadth'].multiply(0.1)\n",
    "df.rename(columns={'hipbreadth':'hipwidth', 'waistbreadth':'waistwidth'}, inplace=True)\n",
    "df.head()"
   ],
   "metadata": {
    "collapsed": false,
    "pycharm": {
     "name": "#%%\n"
    }
   }
  },
  {
   "cell_type": "code",
   "execution_count": null,
   "outputs": [],
   "source": [],
   "metadata": {
    "collapsed": false,
    "pycharm": {
     "name": "#%%\n"
    }
   }
  }
 ],
 "metadata": {
  "kernelspec": {
   "display_name": "Python 3",
   "language": "python",
   "name": "python3"
  },
  "language_info": {
   "codemirror_mode": {
    "name": "ipython",
    "version": 2
   },
   "file_extension": ".py",
   "mimetype": "text/x-python",
   "name": "python",
   "nbconvert_exporter": "python",
   "pygments_lexer": "ipython2",
   "version": "2.7.6"
  }
 },
 "nbformat": 4,
 "nbformat_minor": 0
}